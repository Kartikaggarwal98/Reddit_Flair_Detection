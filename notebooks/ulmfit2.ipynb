{
  "nbformat": 4,
  "nbformat_minor": 0,
  "metadata": {
    "kernelspec": {
      "name": "python3",
      "display_name": "Python 3"
    },
    "language_info": {
      "codemirror_mode": {
        "name": "ipython",
        "version": 3
      },
      "file_extension": ".py",
      "mimetype": "text/x-python",
      "name": "python",
      "nbconvert_exporter": "python",
      "pygments_lexer": "ipython3",
      "version": "3.7.3"
    },
    "colab": {
      "name": "ulmfit2.ipynb",
      "provenance": [],
      "collapsed_sections": []
    },
    "accelerator": "GPU"
  },
  "cells": [
    {
      "cell_type": "code",
      "metadata": {
        "id": "XwYrmyHS-PpJ",
        "colab_type": "code",
        "outputId": "87178607-7820-4673-c8c0-4584be13bd71",
        "colab": {
          "base_uri": "https://localhost:8080/",
          "height": 138
        }
      },
      "source": [
        "from google.colab import drive\n",
        "drive.mount('/gdrive')\n",
        "%cd /gdrive"
      ],
      "execution_count": 1,
      "outputs": [
        {
          "output_type": "stream",
          "text": [
            "Go to this URL in a browser: https://accounts.google.com/o/oauth2/auth?client_id=947318989803-6bn6qk8qdgf4n4g3pfee6491hc0brc4i.apps.googleusercontent.com&redirect_uri=urn%3aietf%3awg%3aoauth%3a2.0%3aoob&response_type=code&scope=email%20https%3a%2f%2fwww.googleapis.com%2fauth%2fdocs.test%20https%3a%2f%2fwww.googleapis.com%2fauth%2fdrive%20https%3a%2f%2fwww.googleapis.com%2fauth%2fdrive.photos.readonly%20https%3a%2f%2fwww.googleapis.com%2fauth%2fpeopleapi.readonly\n",
            "\n",
            "Enter your authorization code:\n",
            "··········\n",
            "Mounted at /gdrive\n",
            "/gdrive\n"
          ],
          "name": "stdout"
        }
      ]
    },
    {
      "cell_type": "code",
      "metadata": {
        "id": "NlmadA9h-G7R",
        "colab_type": "code",
        "outputId": "30f0ddfa-76d3-423e-dd98-5a9a6a48f7fb",
        "colab": {
          "base_uri": "https://localhost:8080/",
          "height": 70
        }
      },
      "source": [
        "import numpy as np\n",
        "import pandas as pd\n",
        "from matplotlib import pyplot as plt\n",
        "import seaborn as sns\n",
        "sns.set(style=\"darkgrid\")"
      ],
      "execution_count": 2,
      "outputs": [
        {
          "output_type": "stream",
          "text": [
            "/usr/local/lib/python3.6/dist-packages/statsmodels/tools/_testing.py:19: FutureWarning: pandas.util.testing is deprecated. Use the functions in the public API at pandas.testing instead.\n",
            "  import pandas.util.testing as tm\n"
          ],
          "name": "stderr"
        }
      ]
    },
    {
      "cell_type": "code",
      "metadata": {
        "id": "tpS7TtlP-rov",
        "colab_type": "code",
        "colab": {}
      },
      "source": [
        "import os\n",
        "os.chdir('/gdrive/My Drive/reddit_india/')"
      ],
      "execution_count": 0,
      "outputs": []
    },
    {
      "cell_type": "code",
      "metadata": {
        "id": "ZerU2p6j-G7W",
        "colab_type": "code",
        "colab": {}
      },
      "source": [
        "import fastai\n",
        "from fastai.text import *\n",
        "from fastai.callbacks import *"
      ],
      "execution_count": 0,
      "outputs": []
    },
    {
      "cell_type": "code",
      "metadata": {
        "id": "kQ7XL_aW-G7a",
        "colab_type": "code",
        "outputId": "bab18bb1-0e0e-46c5-b0bd-df1ceb0f994c",
        "colab": {
          "base_uri": "https://localhost:8080/",
          "height": 34
        }
      },
      "source": [
        "df=pd.read_csv('./data.csv')\n",
        "df.shape"
      ],
      "execution_count": 5,
      "outputs": [
        {
          "output_type": "execute_result",
          "data": {
            "text/plain": [
              "(1800, 12)"
            ]
          },
          "metadata": {
            "tags": []
          },
          "execution_count": 5
        }
      ]
    },
    {
      "cell_type": "code",
      "metadata": {
        "id": "BFyTJjgY-G7f",
        "colab_type": "code",
        "outputId": "b8f1b99b-eb79-4cca-d7fc-2c10a8cb9c6b",
        "colab": {
          "base_uri": "https://localhost:8080/",
          "height": 408
        }
      },
      "source": [
        "df.head(3)"
      ],
      "execution_count": 6,
      "outputs": [
        {
          "output_type": "execute_result",
          "data": {
            "text/html": [
              "<div>\n",
              "<style scoped>\n",
              "    .dataframe tbody tr th:only-of-type {\n",
              "        vertical-align: middle;\n",
              "    }\n",
              "\n",
              "    .dataframe tbody tr th {\n",
              "        vertical-align: top;\n",
              "    }\n",
              "\n",
              "    .dataframe thead th {\n",
              "        text-align: right;\n",
              "    }\n",
              "</style>\n",
              "<table border=\"1\" class=\"dataframe\">\n",
              "  <thead>\n",
              "    <tr style=\"text-align: right;\">\n",
              "      <th></th>\n",
              "      <th>title</th>\n",
              "      <th>score</th>\n",
              "      <th>id</th>\n",
              "      <th>body</th>\n",
              "      <th>author</th>\n",
              "      <th>flair</th>\n",
              "      <th>url</th>\n",
              "      <th>comms_num</th>\n",
              "      <th>created</th>\n",
              "      <th>comment</th>\n",
              "      <th>authors</th>\n",
              "      <th>combined_features</th>\n",
              "    </tr>\n",
              "  </thead>\n",
              "  <tbody>\n",
              "    <tr>\n",
              "      <th>0</th>\n",
              "      <td>Lost my Job, Sick Mother and Paralysed Dad, In...</td>\n",
              "      <td>1042</td>\n",
              "      <td>g014wc</td>\n",
              "      <td>Hi....It's really tough time for everyone. I r...</td>\n",
              "      <td>sanand_satwik</td>\n",
              "      <td>AskIndia</td>\n",
              "      <td>https://www.reddit.com/r/india/comments/g014wc...</td>\n",
              "      <td>132</td>\n",
              "      <td>1.586742e+09</td>\n",
              "      <td>I'm a freelancer. Don't listen to the idiots ...</td>\n",
              "      <td>hashedram diabapp xataari Aashayrao sarcrasti...</td>\n",
              "      <td>Lost my Job, Sick Mother and Paralysed Dad, In...</td>\n",
              "    </tr>\n",
              "    <tr>\n",
              "      <th>1</th>\n",
              "      <td>Why does the government come with a begging bo...</td>\n",
              "      <td>647</td>\n",
              "      <td>fxofyu</td>\n",
              "      <td>We have floods, terrorist attacks, famines due...</td>\n",
              "      <td>TWO-WHEELER-MAFIA</td>\n",
              "      <td>AskIndia</td>\n",
              "      <td>https://www.reddit.com/r/india/comments/fxofyu...</td>\n",
              "      <td>205</td>\n",
              "      <td>1.586448e+09</td>\n",
              "      <td>I don't understand why they don't use money f...</td>\n",
              "      <td>Kinky-Monk ak32009 fools_eye None DwncstSheep...</td>\n",
              "      <td>Why does the government come with a begging bo...</td>\n",
              "    </tr>\n",
              "    <tr>\n",
              "      <th>2</th>\n",
              "      <td>Mother's condition is going worse due to hepat...</td>\n",
              "      <td>756</td>\n",
              "      <td>g0zlly</td>\n",
              "      <td>Hi folks, I really appreciate the warm respons...</td>\n",
              "      <td>sanand_satwik</td>\n",
              "      <td>AskIndia</td>\n",
              "      <td>https://www.reddit.com/r/india/comments/g0zlly...</td>\n",
              "      <td>92</td>\n",
              "      <td>1.586871e+09</td>\n",
              "      <td>If anyone knows who is influential on Twitter...</td>\n",
              "      <td>AlternativeDrop6 TheRobotsHaveCome lanky32 pl...</td>\n",
              "      <td>Mother's condition is going worse due to hepat...</td>\n",
              "    </tr>\n",
              "  </tbody>\n",
              "</table>\n",
              "</div>"
            ],
            "text/plain": [
              "                                               title  ...                                  combined_features\n",
              "0  Lost my Job, Sick Mother and Paralysed Dad, In...  ...  Lost my Job, Sick Mother and Paralysed Dad, In...\n",
              "1  Why does the government come with a begging bo...  ...  Why does the government come with a begging bo...\n",
              "2  Mother's condition is going worse due to hepat...  ...  Mother's condition is going worse due to hepat...\n",
              "\n",
              "[3 rows x 12 columns]"
            ]
          },
          "metadata": {
            "tags": []
          },
          "execution_count": 6
        }
      ]
    },
    {
      "cell_type": "code",
      "metadata": {
        "id": "PMI9NM_kH03g",
        "colab_type": "code",
        "outputId": "b672149b-c0b9-47d1-8926-990401391af0",
        "colab": {
          "base_uri": "https://localhost:8080/",
          "height": 67
        }
      },
      "source": [
        "np.unique(df['flair'],return_counts=True)"
      ],
      "execution_count": 7,
      "outputs": [
        {
          "output_type": "execute_result",
          "data": {
            "text/plain": [
              "(array(['AskIndia', 'Business/Finance', 'Food', 'Non-Political', 'Photography', 'Policy/Economy', 'Politics',\n",
              "        'Science/Technology', 'Sports'], dtype=object),\n",
              " array([200, 200, 200, 200, 200, 200, 200, 200, 200]))"
            ]
          },
          "metadata": {
            "tags": []
          },
          "execution_count": 7
        }
      ]
    },
    {
      "cell_type": "code",
      "metadata": {
        "id": "Bu3kEKF7-G7h",
        "colab_type": "code",
        "outputId": "3d0f87bf-78e9-414a-cd24-8a49fe75d883",
        "colab": {
          "base_uri": "https://localhost:8080/",
          "height": 195
        }
      },
      "source": [
        "df=df[['flair','title']]\n",
        "df[\"flair\"].apply(lambda x:str(x))\n",
        "df.dropna()\n",
        "df.head()"
      ],
      "execution_count": 8,
      "outputs": [
        {
          "output_type": "execute_result",
          "data": {
            "text/html": [
              "<div>\n",
              "<style scoped>\n",
              "    .dataframe tbody tr th:only-of-type {\n",
              "        vertical-align: middle;\n",
              "    }\n",
              "\n",
              "    .dataframe tbody tr th {\n",
              "        vertical-align: top;\n",
              "    }\n",
              "\n",
              "    .dataframe thead th {\n",
              "        text-align: right;\n",
              "    }\n",
              "</style>\n",
              "<table border=\"1\" class=\"dataframe\">\n",
              "  <thead>\n",
              "    <tr style=\"text-align: right;\">\n",
              "      <th></th>\n",
              "      <th>flair</th>\n",
              "      <th>title</th>\n",
              "    </tr>\n",
              "  </thead>\n",
              "  <tbody>\n",
              "    <tr>\n",
              "      <th>0</th>\n",
              "      <td>AskIndia</td>\n",
              "      <td>Lost my Job, Sick Mother and Paralysed Dad, In...</td>\n",
              "    </tr>\n",
              "    <tr>\n",
              "      <th>1</th>\n",
              "      <td>AskIndia</td>\n",
              "      <td>Why does the government come with a begging bo...</td>\n",
              "    </tr>\n",
              "    <tr>\n",
              "      <th>2</th>\n",
              "      <td>AskIndia</td>\n",
              "      <td>Mother's condition is going worse due to hepat...</td>\n",
              "    </tr>\n",
              "    <tr>\n",
              "      <th>3</th>\n",
              "      <td>AskIndia</td>\n",
              "      <td>Men who are 30+ and have decided not to get ma...</td>\n",
              "    </tr>\n",
              "    <tr>\n",
              "      <th>4</th>\n",
              "      <td>AskIndia</td>\n",
              "      <td>r/India: If money is no bar, would you prefer ...</td>\n",
              "    </tr>\n",
              "  </tbody>\n",
              "</table>\n",
              "</div>"
            ],
            "text/plain": [
              "      flair                                              title\n",
              "0  AskIndia  Lost my Job, Sick Mother and Paralysed Dad, In...\n",
              "1  AskIndia  Why does the government come with a begging bo...\n",
              "2  AskIndia  Mother's condition is going worse due to hepat...\n",
              "3  AskIndia  Men who are 30+ and have decided not to get ma...\n",
              "4  AskIndia  r/India: If money is no bar, would you prefer ..."
            ]
          },
          "metadata": {
            "tags": []
          },
          "execution_count": 8
        }
      ]
    },
    {
      "cell_type": "code",
      "metadata": {
        "id": "wk1pputu-G7k",
        "colab_type": "code",
        "colab": {}
      },
      "source": [
        "from sklearn.model_selection import train_test_split\n",
        "train, val = train_test_split(df)"
      ],
      "execution_count": 0,
      "outputs": []
    },
    {
      "cell_type": "code",
      "metadata": {
        "id": "mSu8cSQt-G7n",
        "colab_type": "code",
        "outputId": "c5d10f28-fc12-4cff-fddd-0c8668cf6f00",
        "colab": {
          "base_uri": "https://localhost:8080/",
          "height": 17
        }
      },
      "source": [
        "data_lm = TextLMDataBunch.from_df('.', train,val,text_cols='title',label_cols='flair')\n",
        "data_lm.save('./tmp/data_lm2.pkl')"
      ],
      "execution_count": 12,
      "outputs": [
        {
          "output_type": "display_data",
          "data": {
            "text/html": [
              ""
            ],
            "text/plain": [
              "<IPython.core.display.HTML object>"
            ]
          },
          "metadata": {
            "tags": []
          }
        },
        {
          "output_type": "display_data",
          "data": {
            "text/html": [
              ""
            ],
            "text/plain": [
              "<IPython.core.display.HTML object>"
            ]
          },
          "metadata": {
            "tags": []
          }
        }
      ]
    },
    {
      "cell_type": "code",
      "metadata": {
        "id": "tNbxjBlS-G7r",
        "colab_type": "code",
        "colab": {}
      },
      "source": [
        "# data_lm= load_data(path='./tmp/data_lm2.pkl')"
      ],
      "execution_count": 0,
      "outputs": []
    },
    {
      "cell_type": "code",
      "metadata": {
        "id": "1tVhgBZf-G7u",
        "colab_type": "code",
        "outputId": "90525a87-3299-447b-ada6-cd70a6595f6e",
        "colab": {
          "base_uri": "https://localhost:8080/",
          "height": 17
        }
      },
      "source": [
        "# Classifier model data\n",
        "data_clas  = TextClasDataBunch.from_df('.', train_df=train,\n",
        "                                       text_cols='title',label_cols='flair',\n",
        "                                       valid_df=val,\n",
        "                                       vocab=data_lm.vocab)\n",
        "data_clas.save('./tmp/data_clas2.pkl')"
      ],
      "execution_count": 15,
      "outputs": [
        {
          "output_type": "display_data",
          "data": {
            "text/html": [
              ""
            ],
            "text/plain": [
              "<IPython.core.display.HTML object>"
            ]
          },
          "metadata": {
            "tags": []
          }
        },
        {
          "output_type": "display_data",
          "data": {
            "text/html": [
              ""
            ],
            "text/plain": [
              "<IPython.core.display.HTML object>"
            ]
          },
          "metadata": {
            "tags": []
          }
        }
      ]
    },
    {
      "cell_type": "code",
      "metadata": {
        "id": "DJOKllXb-G7w",
        "colab_type": "code",
        "colab": {}
      },
      "source": [
        "# data_clas = load_data('./tmp/data_clas.pkl')"
      ],
      "execution_count": 0,
      "outputs": []
    },
    {
      "cell_type": "code",
      "metadata": {
        "id": "iljaZPyz-G7z",
        "colab_type": "code",
        "colab": {}
      },
      "source": [
        "data_clas.show_batch()"
      ],
      "execution_count": 0,
      "outputs": []
    },
    {
      "cell_type": "code",
      "metadata": {
        "id": "YT4VYhgp-G72",
        "colab_type": "code",
        "outputId": "51b93c84-0066-48c9-dcac-6eb7a91dd4b7",
        "colab": {
          "base_uri": "https://localhost:8080/",
          "height": 185
        }
      },
      "source": [
        "list(data_clas.vocab.itos[:10])"
      ],
      "execution_count": 16,
      "outputs": [
        {
          "output_type": "execute_result",
          "data": {
            "text/plain": [
              "['xxunk',\n",
              " 'xxpad',\n",
              " 'xxbos',\n",
              " 'xxeos',\n",
              " 'xxfld',\n",
              " 'xxmaj',\n",
              " 'xxup',\n",
              " 'xxrep',\n",
              " 'xxwrep',\n",
              " ',']"
            ]
          },
          "metadata": {
            "tags": []
          },
          "execution_count": 16
        }
      ]
    },
    {
      "cell_type": "code",
      "metadata": {
        "id": "HFToNnbo-G77",
        "colab_type": "code",
        "colab": {}
      },
      "source": [
        "learn = language_model_learner(data_lm, AWD_LSTM, drop_mult=0.3,pretrained=True)"
      ],
      "execution_count": 0,
      "outputs": []
    },
    {
      "cell_type": "code",
      "metadata": {
        "id": "4-rgq1Ch-G79",
        "colab_type": "code",
        "colab": {}
      },
      "source": [
        "learn.lr_find()\n",
        "learn.recorder.plot(suggestion=True)"
      ],
      "execution_count": 0,
      "outputs": []
    },
    {
      "cell_type": "code",
      "metadata": {
        "id": "rSofkJCR-G8A",
        "colab_type": "code",
        "outputId": "f3ef3527-4974-4152-eda9-ff6fe08ef4da",
        "colab": {
          "base_uri": "https://localhost:8080/",
          "height": 140
        }
      },
      "source": [
        "learn.fit_one_cycle(2, 2E-02,callbacks=[SaveModelCallback(learn, name=\"best_lm2\")], moms=(0.8,0.7))"
      ],
      "execution_count": 27,
      "outputs": [
        {
          "output_type": "display_data",
          "data": {
            "text/html": [
              "<table border=\"1\" class=\"dataframe\">\n",
              "  <thead>\n",
              "    <tr style=\"text-align: left;\">\n",
              "      <th>epoch</th>\n",
              "      <th>train_loss</th>\n",
              "      <th>valid_loss</th>\n",
              "      <th>accuracy</th>\n",
              "      <th>time</th>\n",
              "    </tr>\n",
              "  </thead>\n",
              "  <tbody>\n",
              "    <tr>\n",
              "      <td>0</td>\n",
              "      <td>4.723994</td>\n",
              "      <td>3.767585</td>\n",
              "      <td>0.329911</td>\n",
              "      <td>00:03</td>\n",
              "    </tr>\n",
              "    <tr>\n",
              "      <td>1</td>\n",
              "      <td>4.179744</td>\n",
              "      <td>3.594103</td>\n",
              "      <td>0.339360</td>\n",
              "      <td>00:02</td>\n",
              "    </tr>\n",
              "  </tbody>\n",
              "</table>"
            ],
            "text/plain": [
              "<IPython.core.display.HTML object>"
            ]
          },
          "metadata": {
            "tags": []
          }
        },
        {
          "output_type": "stream",
          "text": [
            "Better model found at epoch 0 with valid_loss value: 3.767585039138794.\n",
            "Better model found at epoch 1 with valid_loss value: 3.594102621078491.\n"
          ],
          "name": "stdout"
        }
      ]
    },
    {
      "cell_type": "code",
      "metadata": {
        "id": "teR8GV3O-G8C",
        "colab_type": "code",
        "colab": {}
      },
      "source": [
        "learn.unfreeze()"
      ],
      "execution_count": 0,
      "outputs": []
    },
    {
      "cell_type": "code",
      "metadata": {
        "id": "chvhv27p-G8H",
        "colab_type": "code",
        "outputId": "c60fd186-79fe-46e2-f00c-79ba8677caa7",
        "colab": {
          "base_uri": "https://localhost:8080/",
          "height": 94
        }
      },
      "source": [
        "learn.fit_one_cycle(1, 2E-03,callbacks=[SaveModelCallback(learn, name=\"best_lm2\")], moms=(0.8,0.7))"
      ],
      "execution_count": 29,
      "outputs": [
        {
          "output_type": "display_data",
          "data": {
            "text/html": [
              "<table border=\"1\" class=\"dataframe\">\n",
              "  <thead>\n",
              "    <tr style=\"text-align: left;\">\n",
              "      <th>epoch</th>\n",
              "      <th>train_loss</th>\n",
              "      <th>valid_loss</th>\n",
              "      <th>accuracy</th>\n",
              "      <th>time</th>\n",
              "    </tr>\n",
              "  </thead>\n",
              "  <tbody>\n",
              "    <tr>\n",
              "      <td>0</td>\n",
              "      <td>3.415604</td>\n",
              "      <td>3.420162</td>\n",
              "      <td>0.369568</td>\n",
              "      <td>00:03</td>\n",
              "    </tr>\n",
              "  </tbody>\n",
              "</table>"
            ],
            "text/plain": [
              "<IPython.core.display.HTML object>"
            ]
          },
          "metadata": {
            "tags": []
          }
        },
        {
          "output_type": "stream",
          "text": [
            "Better model found at epoch 0 with valid_loss value: 3.4201619625091553.\n"
          ],
          "name": "stdout"
        }
      ]
    },
    {
      "cell_type": "code",
      "metadata": {
        "id": "iEFlp7Mi-G8M",
        "colab_type": "code",
        "colab": {}
      },
      "source": [
        "learn.load('best_lm2')\n",
        "learn.save_encoder('ft_enc2')"
      ],
      "execution_count": 0,
      "outputs": []
    },
    {
      "cell_type": "markdown",
      "metadata": {
        "id": "fHPPM7qMRTBA",
        "colab_type": "text"
      },
      "source": [
        "## Classifier model"
      ]
    },
    {
      "cell_type": "code",
      "metadata": {
        "id": "CoKQxMhU-G8P",
        "colab_type": "code",
        "colab": {}
      },
      "source": [
        "learn = text_classifier_learner(data_clas, AWD_LSTM, drop_mult=0.5)\n",
        "learn.load_encoder('ft_enc2')\n",
        "pass"
      ],
      "execution_count": 0,
      "outputs": []
    },
    {
      "cell_type": "code",
      "metadata": {
        "id": "IeSetWXX-G8S",
        "colab_type": "code",
        "outputId": "1c0e0de3-fabb-431e-e7e4-629d5c9e5dbd",
        "colab": {
          "base_uri": "https://localhost:8080/",
          "height": 532
        }
      },
      "source": [
        "learn.lr_find()\n",
        "learn.recorder.plot(suggestion=True)"
      ],
      "execution_count": 33,
      "outputs": [
        {
          "output_type": "display_data",
          "data": {
            "text/html": [
              "\n",
              "    <div>\n",
              "        <style>\n",
              "            /* Turns off some styling */\n",
              "            progress {\n",
              "                /* gets rid of default border in Firefox and Opera. */\n",
              "                border: none;\n",
              "                /* Needs to be in here for Safari polyfill so background images work as expected. */\n",
              "                background-size: auto;\n",
              "            }\n",
              "            .progress-bar-interrupted, .progress-bar-interrupted::-webkit-progress-bar {\n",
              "                background: #F44336;\n",
              "            }\n",
              "        </style>\n",
              "      <progress value='4' class='' max='5' style='width:300px; height:20px; vertical-align: middle;'></progress>\n",
              "      80.00% [4/5 00:12<00:03]\n",
              "    </div>\n",
              "    \n",
              "<table border=\"1\" class=\"dataframe\">\n",
              "  <thead>\n",
              "    <tr style=\"text-align: left;\">\n",
              "      <th>epoch</th>\n",
              "      <th>train_loss</th>\n",
              "      <th>valid_loss</th>\n",
              "      <th>accuracy</th>\n",
              "      <th>time</th>\n",
              "    </tr>\n",
              "  </thead>\n",
              "  <tbody>\n",
              "    <tr>\n",
              "      <td>0</td>\n",
              "      <td>2.387853</td>\n",
              "      <td>#na#</td>\n",
              "      <td>00:02</td>\n",
              "    </tr>\n",
              "    <tr>\n",
              "      <td>1</td>\n",
              "      <td>2.354949</td>\n",
              "      <td>#na#</td>\n",
              "      <td>00:03</td>\n",
              "    </tr>\n",
              "    <tr>\n",
              "      <td>2</td>\n",
              "      <td>2.135909</td>\n",
              "      <td>#na#</td>\n",
              "      <td>00:03</td>\n",
              "    </tr>\n",
              "    <tr>\n",
              "      <td>3</td>\n",
              "      <td>1.924296</td>\n",
              "      <td>#na#</td>\n",
              "      <td>00:03</td>\n",
              "    </tr>\n",
              "  </tbody>\n",
              "</table><p>\n",
              "\n",
              "    <div>\n",
              "        <style>\n",
              "            /* Turns off some styling */\n",
              "            progress {\n",
              "                /* gets rid of default border in Firefox and Opera. */\n",
              "                border: none;\n",
              "                /* Needs to be in here for Safari polyfill so background images work as expected. */\n",
              "                background-size: auto;\n",
              "            }\n",
              "            .progress-bar-interrupted, .progress-bar-interrupted::-webkit-progress-bar {\n",
              "                background: #F44336;\n",
              "            }\n",
              "        </style>\n",
              "      <progress value='11' class='' max='21' style='width:300px; height:20px; vertical-align: middle;'></progress>\n",
              "      52.38% [11/21 00:01<00:01 6.1168]\n",
              "    </div>\n",
              "    "
            ],
            "text/plain": [
              "<IPython.core.display.HTML object>"
            ]
          },
          "metadata": {
            "tags": []
          }
        },
        {
          "output_type": "stream",
          "text": [
            "LR Finder is complete, type {learner_name}.recorder.plot() to see the graph.\n",
            "Min numerical gradient: 1.32E-02\n",
            "Min loss divided by 10: 2.09E-02\n"
          ],
          "name": "stdout"
        },
        {
          "output_type": "display_data",
          "data": {
            "image/png": "[encoded data removed]",
            "text/plain": [
              "<Figure size 432x288 with 1 Axes>"
            ]
          },
          "metadata": {
            "tags": []
          }
        }
      ]
    },
    {
      "cell_type": "code",
      "metadata": {
        "id": "H_EKKV7H-G8W",
        "colab_type": "code",
        "outputId": "af6e72cf-0be2-432e-8a84-115ef88e22c3",
        "colab": {
          "base_uri": "https://localhost:8080/",
          "height": 34
        }
      },
      "source": [
        "best_clf_lr = learn.recorder.min_grad_lr\n",
        "best_clf_lr"
      ],
      "execution_count": 34,
      "outputs": [
        {
          "output_type": "execute_result",
          "data": {
            "text/plain": [
              "0.013182567385564075"
            ]
          },
          "metadata": {
            "tags": []
          },
          "execution_count": 34
        }
      ]
    },
    {
      "cell_type": "code",
      "metadata": {
        "id": "yEUT9Myw-G8Z",
        "colab_type": "code",
        "outputId": "207d5f31-d11e-4c04-d308-4b43a2fac52a",
        "colab": {
          "base_uri": "https://localhost:8080/",
          "height": 77
        }
      },
      "source": [
        "learn.fit_one_cycle(1, best_clf_lr)"
      ],
      "execution_count": 35,
      "outputs": [
        {
          "output_type": "display_data",
          "data": {
            "text/html": [
              "<table border=\"1\" class=\"dataframe\">\n",
              "  <thead>\n",
              "    <tr style=\"text-align: left;\">\n",
              "      <th>epoch</th>\n",
              "      <th>train_loss</th>\n",
              "      <th>valid_loss</th>\n",
              "      <th>accuracy</th>\n",
              "      <th>time</th>\n",
              "    </tr>\n",
              "  </thead>\n",
              "  <tbody>\n",
              "    <tr>\n",
              "      <td>0</td>\n",
              "      <td>1.799365</td>\n",
              "      <td>1.727470</td>\n",
              "      <td>0.431111</td>\n",
              "      <td>00:03</td>\n",
              "    </tr>\n",
              "  </tbody>\n",
              "</table>"
            ],
            "text/plain": [
              "<IPython.core.display.HTML object>"
            ]
          },
          "metadata": {
            "tags": []
          }
        }
      ]
    },
    {
      "cell_type": "code",
      "metadata": {
        "id": "OpK-vlQR-G8d",
        "colab_type": "code",
        "outputId": "3db9f195-2593-4d7c-e2cf-22aed4bb846a",
        "colab": {
          "base_uri": "https://localhost:8080/",
          "height": 77
        }
      },
      "source": [
        "learn.freeze_to(-2)\n",
        "learn.fit_one_cycle(1, best_clf_lr)\n"
      ],
      "execution_count": 36,
      "outputs": [
        {
          "output_type": "display_data",
          "data": {
            "text/html": [
              "<table border=\"1\" class=\"dataframe\">\n",
              "  <thead>\n",
              "    <tr style=\"text-align: left;\">\n",
              "      <th>epoch</th>\n",
              "      <th>train_loss</th>\n",
              "      <th>valid_loss</th>\n",
              "      <th>accuracy</th>\n",
              "      <th>time</th>\n",
              "    </tr>\n",
              "  </thead>\n",
              "  <tbody>\n",
              "    <tr>\n",
              "      <td>0</td>\n",
              "      <td>1.643911</td>\n",
              "      <td>1.545555</td>\n",
              "      <td>0.453333</td>\n",
              "      <td>00:03</td>\n",
              "    </tr>\n",
              "  </tbody>\n",
              "</table>"
            ],
            "text/plain": [
              "<IPython.core.display.HTML object>"
            ]
          },
          "metadata": {
            "tags": []
          }
        }
      ]
    },
    {
      "cell_type": "code",
      "metadata": {
        "id": "l-aBhOFL-G8i",
        "colab_type": "code",
        "colab": {}
      },
      "source": [
        "learn.unfreeze()"
      ],
      "execution_count": 0,
      "outputs": []
    },
    {
      "cell_type": "code",
      "metadata": {
        "id": "hCnI_PDaGZcY",
        "colab_type": "code",
        "outputId": "61c6f4c4-c7a4-4600-fe96-f0a5caa9830f",
        "colab": {
          "base_uri": "https://localhost:8080/",
          "height": 532
        }
      },
      "source": [
        "learn.lr_find()\n",
        "learn.recorder.plot(suggestion=True)"
      ],
      "execution_count": 38,
      "outputs": [
        {
          "output_type": "display_data",
          "data": {
            "text/html": [
              "\n",
              "    <div>\n",
              "        <style>\n",
              "            /* Turns off some styling */\n",
              "            progress {\n",
              "                /* gets rid of default border in Firefox and Opera. */\n",
              "                border: none;\n",
              "                /* Needs to be in here for Safari polyfill so background images work as expected. */\n",
              "                background-size: auto;\n",
              "            }\n",
              "            .progress-bar-interrupted, .progress-bar-interrupted::-webkit-progress-bar {\n",
              "                background: #F44336;\n",
              "            }\n",
              "        </style>\n",
              "      <progress value='4' class='' max='5' style='width:300px; height:20px; vertical-align: middle;'></progress>\n",
              "      80.00% [4/5 00:12<00:03]\n",
              "    </div>\n",
              "    \n",
              "<table border=\"1\" class=\"dataframe\">\n",
              "  <thead>\n",
              "    <tr style=\"text-align: left;\">\n",
              "      <th>epoch</th>\n",
              "      <th>train_loss</th>\n",
              "      <th>valid_loss</th>\n",
              "      <th>accuracy</th>\n",
              "      <th>time</th>\n",
              "    </tr>\n",
              "  </thead>\n",
              "  <tbody>\n",
              "    <tr>\n",
              "      <td>0</td>\n",
              "      <td>1.392870</td>\n",
              "      <td>#na#</td>\n",
              "      <td>00:03</td>\n",
              "    </tr>\n",
              "    <tr>\n",
              "      <td>1</td>\n",
              "      <td>1.362207</td>\n",
              "      <td>#na#</td>\n",
              "      <td>00:02</td>\n",
              "    </tr>\n",
              "    <tr>\n",
              "      <td>2</td>\n",
              "      <td>1.304896</td>\n",
              "      <td>#na#</td>\n",
              "      <td>00:02</td>\n",
              "    </tr>\n",
              "    <tr>\n",
              "      <td>3</td>\n",
              "      <td>1.421284</td>\n",
              "      <td>#na#</td>\n",
              "      <td>00:03</td>\n",
              "    </tr>\n",
              "  </tbody>\n",
              "</table><p>\n",
              "\n",
              "    <div>\n",
              "        <style>\n",
              "            /* Turns off some styling */\n",
              "            progress {\n",
              "                /* gets rid of default border in Firefox and Opera. */\n",
              "                border: none;\n",
              "                /* Needs to be in here for Safari polyfill so background images work as expected. */\n",
              "                background-size: auto;\n",
              "            }\n",
              "            .progress-bar-interrupted, .progress-bar-interrupted::-webkit-progress-bar {\n",
              "                background: #F44336;\n",
              "            }\n",
              "        </style>\n",
              "      <progress value='9' class='' max='21' style='width:300px; height:20px; vertical-align: middle;'></progress>\n",
              "      42.86% [9/21 00:01<00:02 3.8647]\n",
              "    </div>\n",
              "    "
            ],
            "text/plain": [
              "<IPython.core.display.HTML object>"
            ]
          },
          "metadata": {
            "tags": []
          }
        },
        {
          "output_type": "stream",
          "text": [
            "LR Finder is complete, type {learner_name}.recorder.plot() to see the graph.\n",
            "Min numerical gradient: 1.58E-06\n",
            "Min loss divided by 10: 3.31E-03\n"
          ],
          "name": "stdout"
        },
        {
          "output_type": "display_data",
          "data": {
            "image/png": "[encoded data removed]",
            "text/plain": [
              "<Figure size 432x288 with 1 Axes>"
            ]
          },
          "metadata": {
            "tags": []
          }
        }
      ]
    },
    {
      "cell_type": "code",
      "metadata": {
        "id": "QojnJB5TGbbX",
        "colab_type": "code",
        "outputId": "67251539-81a9-4445-dbbd-fc63d6e0bae8",
        "colab": {
          "base_uri": "https://localhost:8080/",
          "height": 186
        }
      },
      "source": [
        "learn.fit_one_cycle(3, 1E-06,callbacks=[SaveModelCallback(learn, name=\"best_clf2\")])"
      ],
      "execution_count": 39,
      "outputs": [
        {
          "output_type": "display_data",
          "data": {
            "text/html": [
              "<table border=\"1\" class=\"dataframe\">\n",
              "  <thead>\n",
              "    <tr style=\"text-align: left;\">\n",
              "      <th>epoch</th>\n",
              "      <th>train_loss</th>\n",
              "      <th>valid_loss</th>\n",
              "      <th>accuracy</th>\n",
              "      <th>time</th>\n",
              "    </tr>\n",
              "  </thead>\n",
              "  <tbody>\n",
              "    <tr>\n",
              "      <td>0</td>\n",
              "      <td>1.386024</td>\n",
              "      <td>1.520183</td>\n",
              "      <td>0.464444</td>\n",
              "      <td>00:03</td>\n",
              "    </tr>\n",
              "    <tr>\n",
              "      <td>1</td>\n",
              "      <td>1.386474</td>\n",
              "      <td>1.519489</td>\n",
              "      <td>0.473333</td>\n",
              "      <td>00:03</td>\n",
              "    </tr>\n",
              "    <tr>\n",
              "      <td>2</td>\n",
              "      <td>1.375781</td>\n",
              "      <td>1.517185</td>\n",
              "      <td>0.473333</td>\n",
              "      <td>00:03</td>\n",
              "    </tr>\n",
              "  </tbody>\n",
              "</table>"
            ],
            "text/plain": [
              "<IPython.core.display.HTML object>"
            ]
          },
          "metadata": {
            "tags": []
          }
        },
        {
          "output_type": "stream",
          "text": [
            "Better model found at epoch 0 with valid_loss value: 1.5201832056045532.\n",
            "Better model found at epoch 1 with valid_loss value: 1.5194886922836304.\n",
            "Better model found at epoch 2 with valid_loss value: 1.5171854496002197.\n"
          ],
          "name": "stdout"
        }
      ]
    },
    {
      "cell_type": "code",
      "metadata": {
        "id": "QwXd5FiMGq_t",
        "colab_type": "code",
        "colab": {}
      },
      "source": [
        "learn.load('./best_clf2')\n",
        "pass"
      ],
      "execution_count": 0,
      "outputs": []
    },
    {
      "cell_type": "code",
      "metadata": {
        "id": "_awZl2MrGx0s",
        "colab_type": "code",
        "outputId": "70f5ea58-aa4a-4aa3-eda3-10b8fd8c300b",
        "colab": {
          "base_uri": "https://localhost:8080/",
          "height": 346
        }
      },
      "source": [
        "learn.show_results()"
      ],
      "execution_count": 42,
      "outputs": [
        {
          "output_type": "display_data",
          "data": {
            "text/html": [
              "<table border=\"1\" class=\"dataframe\">\n",
              "  <thead>\n",
              "    <tr style=\"text-align: right;\">\n",
              "      <th>text</th>\n",
              "      <th>target</th>\n",
              "      <th>prediction</th>\n",
              "    </tr>\n",
              "  </thead>\n",
              "  <tbody>\n",
              "    <tr>\n",
              "      <td>xxbos xxmaj xxunk , xxmaj guys ! xxmaj when i xxunk the xxunk &amp; xxunk video , xxunk / xxunk xxunk that i should xxunk \" xxunk xxunk \" with xxunk . i could n't find a xxunk xxunk , but i found what they call \" xxmaj xxunk . \" xxmaj at first , i was n't too xxunk about it , but after i xxunk it , i</td>\n",
              "      <td>Food</td>\n",
              "      <td>AskIndia</td>\n",
              "    </tr>\n",
              "    <tr>\n",
              "      <td>xxbos xxmaj during # xxunk xxmaj all xxmaj india xxunk of xxunk came down to xxunk xxup xxunk . a drop of xxunk xxunk xxup xxunk . xxmaj it was much beyond the xxunk drop of 12 xxup xxunk . xxmaj xxunk a xxunk system , xxunk planning by xxunk &amp; close xxunk by xxunk xxunk no xxunk . | xxup xxunk xxmaj central xxmaj xxunk xxmaj supply xxmaj xxunk</td>\n",
              "      <td>Non-Political</td>\n",
              "      <td>Politics</td>\n",
              "    </tr>\n",
              "    <tr>\n",
              "      <td>xxbos xxmaj my xxmaj xxunk xxmaj xxunk xxup xxunk 's xxunk xxunk xxunk got xxunk during xxunk . xxmaj service xxunk says it can not be xxunk even though i am eligible for \" xxmaj xxunk care support with xxunk xxunk xxunk \" . xxmaj any way i can xxunk just the xxunk , and avoid xxunk xxunk for an entire new xxup xxunk xxunk ?</td>\n",
              "      <td>Science/Technology</td>\n",
              "      <td>Science/Technology</td>\n",
              "    </tr>\n",
              "    <tr>\n",
              "      <td>xxbos xxmaj pakistan xxunk trying to xxunk 200 xxunk - xxmaj around xxunk xxunk of the xxmaj xxunk - e - xxmaj xxunk ( let ) , xxmaj xxunk - e - xxmaj xxunk ( xxunk ) and xxmaj xxunk xxmaj xxunk ( xxup xxunk ) are ready to xxunk into the xxmaj valley , according to xxunk xxunk available to national security xxunk .</td>\n",
              "      <td>Politics</td>\n",
              "      <td>Photography</td>\n",
              "    </tr>\n",
              "    <tr>\n",
              "      <td>xxbos xxmaj if all lights are xxunk off at once it might lead to failure of xxunk . xxmaj all our emergency services will xxunk might take a week 's time to xxunk power . i would appeal to the public to light xxunk without xxunk off lights : xxmaj xxunk xxmaj xxunk , xxmaj maharashtra xxmaj energy xxmaj minister</td>\n",
              "      <td>Politics</td>\n",
              "      <td>Policy/Economy</td>\n",
              "    </tr>\n",
              "  </tbody>\n",
              "</table>"
            ],
            "text/plain": [
              "<IPython.core.display.HTML object>"
            ]
          },
          "metadata": {
            "tags": []
          }
        }
      ]
    },
    {
      "cell_type": "code",
      "metadata": {
        "id": "0OHrESKfSzGW",
        "colab_type": "code",
        "colab": {
          "base_uri": "https://localhost:8080/",
          "height": 336
        },
        "outputId": "8c23be73-ce05-40fb-8d7d-930849bf361f"
      },
      "source": [
        "np.argmax(preds,axis=1)"
      ],
      "execution_count": 51,
      "outputs": [
        {
          "output_type": "execute_result",
          "data": {
            "text/plain": [
              "tensor([8, 4, 6, 7, 5, 7, 3, 5, 5, 5, 3, 7, 7, 4, 4, 7, 6, 1, 7, 6, 0, 3, 3, 5,\n",
              "        3, 6, 3, 6, 6, 5, 7, 5, 0, 3, 3, 3, 4, 4, 0, 4, 3, 4, 6, 6, 7, 6, 5, 8,\n",
              "        0, 4, 0, 3, 5, 0, 6, 6, 8, 0, 0, 3, 0, 7, 5, 5, 0, 4, 6, 2, 6, 8, 3, 7,\n",
              "        8, 6, 1, 7, 3, 4, 3, 6, 6, 6, 4, 6, 4, 5, 7, 8, 0, 0, 6, 8, 0, 6, 4, 7,\n",
              "        8, 6, 0, 5, 3, 4, 4, 5, 0, 4, 4, 7, 5, 3, 6, 4, 8, 8, 4, 4, 5, 0, 3, 0,\n",
              "        3, 6, 1, 8, 0, 6, 3, 3, 6, 4, 8, 7, 4, 5, 3, 2, 0, 3, 7, 4, 1, 2, 4, 7,\n",
              "        3, 3, 0, 0, 0, 0, 0, 6, 0, 2, 3, 4, 3, 4, 3, 5, 3, 4, 0, 5, 4, 5, 6, 8,\n",
              "        7, 5, 7, 0, 5, 6, 5, 0, 5, 0, 3, 0, 2, 4, 2, 6, 3, 3, 4, 6, 4, 4, 2, 6,\n",
              "        8, 6, 6, 4, 6, 6, 2, 4, 0, 6, 8, 0, 3, 8, 0, 3, 8, 5, 5, 0, 0, 8, 8, 6,\n",
              "        0, 4, 5, 6, 6, 0, 0, 3, 0, 3, 6, 1, 6, 5, 7, 8, 0, 5, 1, 4, 5, 0, 4, 0,\n",
              "        6, 6, 6, 6, 4, 4, 0, 1, 3, 0, 6, 6, 6, 3, 0, 4, 5, 6, 0, 0, 6, 4, 0, 0,\n",
              "        0, 0, 8, 6, 2, 7, 6, 3, 2, 5, 2, 6, 4, 4, 4, 8, 4, 3, 6, 6, 3, 4, 4, 3,\n",
              "        3, 3, 0, 0, 4, 6, 6, 5, 1, 0, 5, 1, 3, 3, 5, 0, 5, 5, 0, 5, 6, 8, 5, 0,\n",
              "        0, 0, 4, 0, 5, 6, 3, 5, 6, 4, 1, 2, 0, 6, 0, 3, 4, 0, 3, 6, 4, 5, 5, 4,\n",
              "        6, 6, 4, 5, 8, 3, 0, 4, 0, 8, 6, 0, 1, 3, 2, 8, 6, 7, 0, 6, 0, 6, 3, 8,\n",
              "        0, 3, 3, 4, 7, 8, 0, 5, 5, 2, 3, 0, 0, 5, 0, 6, 8, 5, 4, 6, 5, 6, 6, 6,\n",
              "        8, 4, 6, 6, 2, 4, 0, 4, 1, 2, 0, 0, 2, 8, 2, 0, 1, 8, 8, 4, 3, 8, 5, 6,\n",
              "        0, 6, 6, 5, 5, 0, 0, 3, 4, 6, 6, 0, 0, 3, 0, 5, 0, 5, 6, 5, 1, 4, 0, 8,\n",
              "        3, 4, 1, 4, 5, 4, 6, 6, 3, 6, 3, 0, 6, 0, 0, 8, 5, 4])"
            ]
          },
          "metadata": {
            "tags": []
          },
          "execution_count": 51
        }
      ]
    },
    {
      "cell_type": "markdown",
      "metadata": {
        "id": "H9ngcSiiHWFY",
        "colab_type": "text"
      },
      "source": [
        "## Confusion Matrix"
      ]
    },
    {
      "cell_type": "code",
      "metadata": {
        "id": "chN4MTHSTCrS",
        "colab_type": "code",
        "colab": {}
      },
      "source": [
        "import sklearn"
      ],
      "execution_count": 0,
      "outputs": []
    },
    {
      "cell_type": "code",
      "metadata": {
        "id": "8K2mkjJeHJA7",
        "colab_type": "code",
        "outputId": "06b11865-4a3a-47a3-9a01-d68832922f4e",
        "colab": {
          "base_uri": "https://localhost:8080/",
          "height": 327
        }
      },
      "source": [
        "preds,y,losses = learn.get_preds(with_loss=True)\n",
        "interp = ClassificationInterpretation(learn, preds, y, losses)\n",
        "f1=sklearn.metrics.f1_score(y,np.argmax(preds,axis=1),average='weighted')\n",
        "print (f1)\n",
        "interp.plot_confusion_matrix()"
      ],
      "execution_count": 53,
      "outputs": [
        {
          "output_type": "display_data",
          "data": {
            "text/html": [
              ""
            ],
            "text/plain": [
              "<IPython.core.display.HTML object>"
            ]
          },
          "metadata": {
            "tags": []
          }
        },
        {
          "output_type": "stream",
          "text": [
            "0.45541270766994446\n"
          ],
          "name": "stdout"
        },
        {
          "output_type": "display_data",
          "data": {
            "image/png": "[encoded data removed]",
            "text/plain": [
              "<Figure size 432x288 with 1 Axes>"
            ]
          },
          "metadata": {
            "tags": []
          }
        }
      ]
    },
    {
      "cell_type": "code",
      "metadata": {
        "id": "DwLpdf_HHZvb",
        "colab_type": "code",
        "colab": {}
      },
      "source": [
        ""
      ],
      "execution_count": 0,
      "outputs": []
    }
  ]
}