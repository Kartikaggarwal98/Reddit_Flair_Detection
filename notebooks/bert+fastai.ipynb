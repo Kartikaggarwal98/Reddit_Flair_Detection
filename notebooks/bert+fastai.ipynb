{
 "cells": [
  {
   "cell_type": "code",
   "execution_count": 1,
   "metadata": {
    "colab": {
     "base_uri": "https://localhost:8080/",
     "height": 50
    },
    "colab_type": "code",
    "id": "XwYrmyHS-PpJ",
    "outputId": "d3577d3b-48cd-4947-bacd-3f0c113537fa"
   },
   "outputs": [
    {
     "name": "stdout",
     "output_type": "stream",
     "text": [
      "Drive already mounted at /gdrive; to attempt to forcibly remount, call drive.mount(\"/gdrive\", force_remount=True).\n",
      "/gdrive\n"
     ]
    }
   ],
   "source": [
    "from google.colab import drive\n",
    "drive.mount('/gdrive')\n",
    "%cd /gdrive"
   ]
  },
  {
   "cell_type": "markdown",
   "metadata": {},
   "source": [
    "# Import Libraries\n",
    "We will use [huggingface transformers](https://github.com/huggingface/transformers) library to train our bert model for sequence classification task. Various other transformer models such as RoBERTa, DistilBERT, XLNET,.. can be used but these models have a lot of computational requirements just for fine-tuning. "
   ]
  },
  {
   "cell_type": "code",
   "execution_count": 2,
   "metadata": {
    "colab": {
     "base_uri": "https://localhost:8080/",
     "height": 101
    },
    "colab_type": "code",
    "id": "I6hMnqyL-iOh",
    "outputId": "e18b6c5e-af85-46f4-96a1-665627f8ae6c"
   },
   "outputs": [
    {
     "name": "stdout",
     "output_type": "stream",
     "text": [
      "\u001b[K     |████████████████████████████████| 573kB 299kB/s \n",
      "\u001b[K     |████████████████████████████████| 3.7MB 1.1MB/s \n",
      "\u001b[K     |████████████████████████████████| 1.0MB 42.4MB/s \n",
      "\u001b[K     |████████████████████████████████| 890kB 44.0MB/s \n",
      "\u001b[?25h  Building wheel for sacremoses (setup.py) ... \u001b[?25l\u001b[?25hdone\n"
     ]
    }
   ],
   "source": [
    "!pip install -q transformers"
   ]
  },
  {
   "cell_type": "code",
   "execution_count": 2,
   "metadata": {
    "colab": {
     "base_uri": "https://localhost:8080/",
     "height": 70
    },
    "colab_type": "code",
    "id": "NlmadA9h-G7R",
    "outputId": "0d708d9b-3889-4f38-ecfd-107ad82f4f6f"
   },
   "outputs": [
    {
     "name": "stderr",
     "output_type": "stream",
     "text": [
      "/usr/local/lib/python3.6/dist-packages/statsmodels/tools/_testing.py:19: FutureWarning: pandas.util.testing is deprecated. Use the functions in the public API at pandas.testing instead.\n",
      "  import pandas.util.testing as tm\n"
     ]
    }
   ],
   "source": [
    "import numpy as np\n",
    "import pandas as pd\n",
    "from matplotlib import pyplot as plt\n",
    "import seaborn as sns\n",
    "sns.set(style=\"darkgrid\")"
   ]
  },
  {
   "cell_type": "code",
   "execution_count": 0,
   "metadata": {
    "colab": {},
    "colab_type": "code",
    "id": "tpS7TtlP-rov"
   },
   "outputs": [],
   "source": [
    "import os\n",
    "os.chdir('/gdrive/My Drive/reddit_india/')"
   ]
  },
  {
   "cell_type": "code",
   "execution_count": 0,
   "metadata": {
    "colab": {},
    "colab_type": "code",
    "id": "ZerU2p6j-G7W"
   },
   "outputs": [],
   "source": [
    "import torch\n",
    "import torch.optim as optim\n",
    "\n",
    "import random \n",
    "\n",
    "# fastai\n",
    "from fastai import *\n",
    "from fastai.text import *\n",
    "from fastai.callbacks import *\n",
    "\n",
    "# transformers\n",
    "from transformers import PreTrainedModel, PreTrainedTokenizer, PretrainedConfig\n",
    "\n",
    "from transformers import BertForSequenceClassification, BertTokenizer, BertConfig\n",
    "from transformers import RobertaForSequenceClassification, RobertaTokenizer, RobertaConfig\n",
    "from transformers import XLNetForSequenceClassification, XLNetTokenizer, XLNetConfig\n",
    "from transformers import XLMForSequenceClassification, XLMTokenizer, XLMConfig\n",
    "from transformers import DistilBertForSequenceClassification, DistilBertTokenizer, DistilBertConfig"
   ]
  },
  {
   "cell_type": "code",
   "execution_count": 5,
   "metadata": {
    "colab": {
     "base_uri": "https://localhost:8080/",
     "height": 50
    },
    "colab_type": "code",
    "id": "07uVGhBcC7E4",
    "outputId": "fcf0e7f0-3748-4a09-80b0-fb65902abe28"
   },
   "outputs": [
    {
     "name": "stdout",
     "output_type": "stream",
     "text": [
      "fastai version : 1.0.60\n",
      "transformers version : 2.8.0\n"
     ]
    }
   ],
   "source": [
    "import fastai\n",
    "import transformers\n",
    "print('fastai version :', fastai.__version__)\n",
    "print('transformers version :', transformers.__version__)"
   ]
  },
  {
   "cell_type": "markdown",
   "metadata": {},
   "source": [
    "# Import data\n",
    "We wil only test the BERT model for combined features as lot of training time and cost is required."
   ]
  },
  {
   "cell_type": "code",
   "execution_count": 6,
   "metadata": {
    "colab": {
     "base_uri": "https://localhost:8080/",
     "height": 34
    },
    "colab_type": "code",
    "id": "kQ7XL_aW-G7a",
    "outputId": "f4efced3-d7ef-4846-c993-40d382f8ac22"
   },
   "outputs": [
    {
     "data": {
      "text/plain": [
       "(1800, 12)"
      ]
     },
     "execution_count": 6,
     "metadata": {
      "tags": []
     },
     "output_type": "execute_result"
    }
   ],
   "source": [
    "df=pd.read_csv('./data.csv')\n",
    "df.shape"
   ]
  },
  {
   "cell_type": "code",
   "execution_count": 7,
   "metadata": {
    "colab": {
     "base_uri": "https://localhost:8080/",
     "height": 408
    },
    "colab_type": "code",
    "id": "BFyTJjgY-G7f",
    "outputId": "55867532-abbc-4df8-d0aa-b09cf8bc5a0b"
   },
   "outputs": [
    {
     "data": {
      "text/html": [
       "<div>\n",
       "<style scoped>\n",
       "    .dataframe tbody tr th:only-of-type {\n",
       "        vertical-align: middle;\n",
       "    }\n",
       "\n",
       "    .dataframe tbody tr th {\n",
       "        vertical-align: top;\n",
       "    }\n",
       "\n",
       "    .dataframe thead th {\n",
       "        text-align: right;\n",
       "    }\n",
       "</style>\n",
       "<table border=\"1\" class=\"dataframe\">\n",
       "  <thead>\n",
       "    <tr style=\"text-align: right;\">\n",
       "      <th></th>\n",
       "      <th>title</th>\n",
       "      <th>score</th>\n",
       "      <th>id</th>\n",
       "      <th>body</th>\n",
       "      <th>author</th>\n",
       "      <th>flair</th>\n",
       "      <th>url</th>\n",
       "      <th>comms_num</th>\n",
       "      <th>created</th>\n",
       "      <th>comment</th>\n",
       "      <th>authors</th>\n",
       "      <th>combined_features</th>\n",
       "    </tr>\n",
       "  </thead>\n",
       "  <tbody>\n",
       "    <tr>\n",
       "      <th>0</th>\n",
       "      <td>Lost my Job, Sick Mother and Paralysed Dad, In...</td>\n",
       "      <td>1042</td>\n",
       "      <td>g014wc</td>\n",
       "      <td>Hi....It's really tough time for everyone. I r...</td>\n",
       "      <td>sanand_satwik</td>\n",
       "      <td>AskIndia</td>\n",
       "      <td>https://www.reddit.com/r/india/comments/g014wc...</td>\n",
       "      <td>132</td>\n",
       "      <td>1.586742e+09</td>\n",
       "      <td>I'm a freelancer. Don't listen to the idiots ...</td>\n",
       "      <td>hashedram diabapp xataari Aashayrao sarcrasti...</td>\n",
       "      <td>Lost my Job, Sick Mother and Paralysed Dad, In...</td>\n",
       "    </tr>\n",
       "    <tr>\n",
       "      <th>1</th>\n",
       "      <td>Why does the government come with a begging bo...</td>\n",
       "      <td>647</td>\n",
       "      <td>fxofyu</td>\n",
       "      <td>We have floods, terrorist attacks, famines due...</td>\n",
       "      <td>TWO-WHEELER-MAFIA</td>\n",
       "      <td>AskIndia</td>\n",
       "      <td>https://www.reddit.com/r/india/comments/fxofyu...</td>\n",
       "      <td>205</td>\n",
       "      <td>1.586448e+09</td>\n",
       "      <td>I don't understand why they don't use money f...</td>\n",
       "      <td>Kinky-Monk ak32009 fools_eye None DwncstSheep...</td>\n",
       "      <td>Why does the government come with a begging bo...</td>\n",
       "    </tr>\n",
       "    <tr>\n",
       "      <th>2</th>\n",
       "      <td>Mother's condition is going worse due to hepat...</td>\n",
       "      <td>756</td>\n",
       "      <td>g0zlly</td>\n",
       "      <td>Hi folks, I really appreciate the warm respons...</td>\n",
       "      <td>sanand_satwik</td>\n",
       "      <td>AskIndia</td>\n",
       "      <td>https://www.reddit.com/r/india/comments/g0zlly...</td>\n",
       "      <td>92</td>\n",
       "      <td>1.586871e+09</td>\n",
       "      <td>If anyone knows who is influential on Twitter...</td>\n",
       "      <td>AlternativeDrop6 TheRobotsHaveCome lanky32 pl...</td>\n",
       "      <td>Mother's condition is going worse due to hepat...</td>\n",
       "    </tr>\n",
       "  </tbody>\n",
       "</table>\n",
       "</div>"
      ],
      "text/plain": [
       "                                               title  ...                                  combined_features\n",
       "0  Lost my Job, Sick Mother and Paralysed Dad, In...  ...  Lost my Job, Sick Mother and Paralysed Dad, In...\n",
       "1  Why does the government come with a begging bo...  ...  Why does the government come with a begging bo...\n",
       "2  Mother's condition is going worse due to hepat...  ...  Mother's condition is going worse due to hepat...\n",
       "\n",
       "[3 rows x 12 columns]"
      ]
     },
     "execution_count": 7,
     "metadata": {
      "tags": []
     },
     "output_type": "execute_result"
    }
   ],
   "source": [
    "df.head(3)"
   ]
  },
  {
   "cell_type": "code",
   "execution_count": 8,
   "metadata": {
    "colab": {
     "base_uri": "https://localhost:8080/",
     "height": 67
    },
    "colab_type": "code",
    "id": "PMI9NM_kH03g",
    "outputId": "08ee4b5b-cd46-4ebc-ea00-07de42aa460c"
   },
   "outputs": [
    {
     "data": {
      "text/plain": [
       "(array(['AskIndia', 'Business/Finance', 'Food', 'Non-Political', 'Photography', 'Policy/Economy', 'Politics',\n",
       "        'Science/Technology', 'Sports'], dtype=object),\n",
       " array([200, 200, 200, 200, 200, 200, 200, 200, 200]))"
      ]
     },
     "execution_count": 8,
     "metadata": {
      "tags": []
     },
     "output_type": "execute_result"
    }
   ],
   "source": [
    "np.unique(df['flair'],return_counts=True)"
   ]
  },
  {
   "cell_type": "code",
   "execution_count": 9,
   "metadata": {
    "colab": {
     "base_uri": "https://localhost:8080/",
     "height": 195
    },
    "colab_type": "code",
    "id": "Bu3kEKF7-G7h",
    "outputId": "6e29be1b-574e-456b-863f-9f57a791403a"
   },
   "outputs": [
    {
     "data": {
      "text/html": [
       "<div>\n",
       "<style scoped>\n",
       "    .dataframe tbody tr th:only-of-type {\n",
       "        vertical-align: middle;\n",
       "    }\n",
       "\n",
       "    .dataframe tbody tr th {\n",
       "        vertical-align: top;\n",
       "    }\n",
       "\n",
       "    .dataframe thead th {\n",
       "        text-align: right;\n",
       "    }\n",
       "</style>\n",
       "<table border=\"1\" class=\"dataframe\">\n",
       "  <thead>\n",
       "    <tr style=\"text-align: right;\">\n",
       "      <th></th>\n",
       "      <th>flair</th>\n",
       "      <th>title</th>\n",
       "    </tr>\n",
       "  </thead>\n",
       "  <tbody>\n",
       "    <tr>\n",
       "      <th>0</th>\n",
       "      <td>AskIndia</td>\n",
       "      <td>Lost my Job, Sick Mother and Paralysed Dad, In...</td>\n",
       "    </tr>\n",
       "    <tr>\n",
       "      <th>1</th>\n",
       "      <td>AskIndia</td>\n",
       "      <td>Why does the government come with a begging bo...</td>\n",
       "    </tr>\n",
       "    <tr>\n",
       "      <th>2</th>\n",
       "      <td>AskIndia</td>\n",
       "      <td>Mother's condition is going worse due to hepat...</td>\n",
       "    </tr>\n",
       "    <tr>\n",
       "      <th>3</th>\n",
       "      <td>AskIndia</td>\n",
       "      <td>Men who are 30+ and have decided not to get ma...</td>\n",
       "    </tr>\n",
       "    <tr>\n",
       "      <th>4</th>\n",
       "      <td>AskIndia</td>\n",
       "      <td>r/India: If money is no bar, would you prefer ...</td>\n",
       "    </tr>\n",
       "  </tbody>\n",
       "</table>\n",
       "</div>"
      ],
      "text/plain": [
       "      flair                                              title\n",
       "0  AskIndia  Lost my Job, Sick Mother and Paralysed Dad, In...\n",
       "1  AskIndia  Why does the government come with a begging bo...\n",
       "2  AskIndia  Mother's condition is going worse due to hepat...\n",
       "3  AskIndia  Men who are 30+ and have decided not to get ma...\n",
       "4  AskIndia  r/India: If money is no bar, would you prefer ..."
      ]
     },
     "execution_count": 9,
     "metadata": {
      "tags": []
     },
     "output_type": "execute_result"
    }
   ],
   "source": [
    "df=df[['flair','title']]\n",
    "df[\"flair\"].apply(lambda x:str(x))\n",
    "df.dropna()\n",
    "df.head()"
   ]
  },
  {
   "cell_type": "code",
   "execution_count": 0,
   "metadata": {
    "colab": {},
    "colab_type": "code",
    "id": "6dDNbM8nGGi2"
   },
   "outputs": [],
   "source": [
    "all_flairs=list(np.unique(df['flair']))\n",
    "df['flair']=df['flair'].apply(lambda x :all_flairs.index(x))\n",
    "all_flairs=list(np.unique(df['flair']))"
   ]
  },
  {
   "cell_type": "markdown",
   "metadata": {},
   "source": [
    "# Transformer Models"
   ]
  },
  {
   "cell_type": "code",
   "execution_count": 0,
   "metadata": {
    "colab": {},
    "colab_type": "code",
    "id": "MI5MLuuUDBrH"
   },
   "outputs": [],
   "source": [
    "MODEL_CLASSES = {\n",
    "    'bert': (BertForSequenceClassification, BertTokenizer, BertConfig),\n",
    "    'xlnet': (XLNetForSequenceClassification, XLNetTokenizer, XLNetConfig),\n",
    "    'xlm': (XLMForSequenceClassification, XLMTokenizer, XLMConfig),\n",
    "    'roberta': (RobertaForSequenceClassification, RobertaTokenizer, RobertaConfig),\n",
    "    'distilbert': (DistilBertForSequenceClassification, DistilBertTokenizer, DistilBertConfig)\n",
    "}"
   ]
  },
  {
   "cell_type": "code",
   "execution_count": 0,
   "metadata": {
    "colab": {},
    "colab_type": "code",
    "id": "NaxA78MnDEZP"
   },
   "outputs": [],
   "source": [
    "# Parameters\n",
    "seed = 42\n",
    "use_fp16 = False\n",
    "bs = 16\n",
    "\n",
    "# model_type = 'roberta'\n",
    "# pretrained_model_name = 'roberta-base'\n",
    "\n",
    "\n",
    "model_type = 'bert'\n",
    "pretrained_model_name='bert-base-uncased'\n",
    "\n",
    "# model_type = 'distilbert'\n",
    "# pretrained_model_name = 'distilbert-base-uncased'\n",
    "\n",
    "#model_type = 'xlm'\n",
    "#pretrained_model_name = 'xlm-clm-enfr-1024'\n",
    "\n",
    "# model_type = 'xlnet'\n",
    "# pretrained_model_name = 'xlnet-base-cased'"
   ]
  },
  {
   "cell_type": "code",
   "execution_count": 0,
   "metadata": {
    "colab": {},
    "colab_type": "code",
    "id": "B3JUx66CDSq2"
   },
   "outputs": [],
   "source": [
    "model_class, tokenizer_class, config_class = MODEL_CLASSES[model_type]"
   ]
  },
  {
   "cell_type": "code",
   "execution_count": 46,
   "metadata": {
    "colab": {
     "base_uri": "https://localhost:8080/",
     "height": 54
    },
    "colab_type": "code",
    "id": "dajwg1H_DTlC",
    "outputId": "312758ac-318c-4886-9f01-4ac80071c838"
   },
   "outputs": [
    {
     "data": {
      "text/plain": [
       "dict_keys(['bert-base-uncased', 'bert-large-uncased', 'bert-base-cased', 'bert-large-cased', 'bert-base-multilingual-uncased', 'bert-base-multilingual-cased', 'bert-base-chinese', 'bert-base-german-cased', 'bert-large-uncased-whole-word-masking', 'bert-large-cased-whole-word-masking', 'bert-large-uncased-whole-word-masking-finetuned-squad', 'bert-large-cased-whole-word-masking-finetuned-squad', 'bert-base-cased-finetuned-mrpc', 'bert-base-german-dbmdz-cased', 'bert-base-german-dbmdz-uncased', 'bert-base-japanese', 'bert-base-japanese-whole-word-masking', 'bert-base-japanese-char', 'bert-base-japanese-char-whole-word-masking', 'bert-base-finnish-cased-v1', 'bert-base-finnish-uncased-v1', 'bert-base-dutch-cased'])"
      ]
     },
     "execution_count": 46,
     "metadata": {
      "tags": []
     },
     "output_type": "execute_result"
    }
   ],
   "source": [
    "model_class.pretrained_model_archive_map.keys()"
   ]
  },
  {
   "cell_type": "code",
   "execution_count": 0,
   "metadata": {
    "colab": {},
    "colab_type": "code",
    "id": "ZCvPaGbeDTnf"
   },
   "outputs": [],
   "source": [
    "def seed_all(seed_value):\n",
    "    random.seed(seed_value) # Python\n",
    "    np.random.seed(seed_value) # cpu vars\n",
    "    torch.manual_seed(seed_value) # cpu  vars\n",
    "    \n",
    "    if torch.cuda.is_available(): \n",
    "        torch.cuda.manual_seed(seed_value)\n",
    "        torch.cuda.manual_seed_all(seed_value) # gpu vars\n",
    "        torch.backends.cudnn.deterministic = True  #needed\n",
    "        torch.backends.cudnn.benchmark = False"
   ]
  },
  {
   "cell_type": "code",
   "execution_count": 0,
   "metadata": {
    "colab": {},
    "colab_type": "code",
    "id": "3LLrbmGsDTtZ"
   },
   "outputs": [],
   "source": [
    "seed_all(seed)"
   ]
  },
  {
   "cell_type": "code",
   "execution_count": 0,
   "metadata": {
    "colab": {},
    "colab_type": "code",
    "id": "W7PgzxXNDcZe"
   },
   "outputs": [],
   "source": [
    "class TransformersBaseTokenizer(BaseTokenizer):\n",
    "    \"\"\"Wrapper around PreTrainedTokenizer to be compatible with fast.ai\"\"\"\n",
    "    def __init__(self, pretrained_tokenizer: PreTrainedTokenizer, model_type = 'bert', **kwargs):\n",
    "        self._pretrained_tokenizer = pretrained_tokenizer\n",
    "        self.max_seq_len = pretrained_tokenizer.max_len\n",
    "        self.model_type = model_type\n",
    "\n",
    "    def __call__(self, *args, **kwargs): \n",
    "        return self\n",
    "\n",
    "    def tokenizer(self, t:str) -> List[str]:\n",
    "        \"\"\"Limits the maximum sequence length and add the spesial tokens\"\"\"\n",
    "        CLS = self._pretrained_tokenizer.cls_token\n",
    "        SEP = self._pretrained_tokenizer.sep_token\n",
    "        if self.model_type in ['roberta']:\n",
    "            tokens = self._pretrained_tokenizer.tokenize(t, add_prefix_space=True)[:self.max_seq_len - 2]\n",
    "            tokens = [CLS] + tokens + [SEP]\n",
    "        else:\n",
    "            tokens = self._pretrained_tokenizer.tokenize(t)[:self.max_seq_len - 2]\n",
    "            if self.model_type in ['xlnet']:\n",
    "                tokens = tokens + [SEP] +  [CLS]\n",
    "            else:\n",
    "                tokens = [CLS] + tokens + [SEP]\n",
    "        return tokens"
   ]
  },
  {
   "cell_type": "code",
   "execution_count": 0,
   "metadata": {
    "colab": {},
    "colab_type": "code",
    "id": "EVWK8PWYDcdQ"
   },
   "outputs": [],
   "source": [
    "transformer_tokenizer = tokenizer_class.from_pretrained(pretrained_model_name)\n",
    "transformer_base_tokenizer = TransformersBaseTokenizer(pretrained_tokenizer = transformer_tokenizer, model_type = model_type)\n",
    "fastai_tokenizer = Tokenizer(tok_func = transformer_base_tokenizer, pre_rules=[], post_rules=[])"
   ]
  },
  {
   "cell_type": "code",
   "execution_count": 0,
   "metadata": {
    "colab": {},
    "colab_type": "code",
    "id": "9jSO1CzNDcb9"
   },
   "outputs": [],
   "source": [
    "class TransformersVocab(Vocab):\n",
    "    def __init__(self, tokenizer: PreTrainedTokenizer):\n",
    "        super(TransformersVocab, self).__init__(itos = [])\n",
    "        self.tokenizer = tokenizer\n",
    "    \n",
    "    def numericalize(self, t:Collection[str]) -> List[int]:\n",
    "        \"Convert a list of tokens `t` to their ids.\"\n",
    "        return self.tokenizer.convert_tokens_to_ids(t)\n",
    "        #return self.tokenizer.encode(t)\n",
    "\n",
    "    def textify(self, nums:Collection[int], sep=' ') -> List[str]:\n",
    "        \"Convert a list of `nums` to their tokens.\"\n",
    "        nums = np.array(nums).tolist()\n",
    "        return sep.join(self.tokenizer.convert_ids_to_tokens(nums)) if sep is not None else self.tokenizer.convert_ids_to_tokens(nums)\n",
    "    \n",
    "    def __getstate__(self):\n",
    "        return {'itos':self.itos, 'tokenizer':self.tokenizer}\n",
    "\n",
    "    def __setstate__(self, state:dict):\n",
    "        self.itos = state['itos']\n",
    "        self.tokenizer = state['tokenizer']\n",
    "        self.stoi = collections.defaultdict(int,{v:k for k,v in enumerate(self.itos)})\n"
   ]
  },
  {
   "cell_type": "code",
   "execution_count": 0,
   "metadata": {
    "colab": {},
    "colab_type": "code",
    "id": "lPbE8NI2D0gy"
   },
   "outputs": [],
   "source": [
    "transformer_vocab =  TransformersVocab(tokenizer = transformer_tokenizer)\n",
    "numericalize_processor = NumericalizeProcessor(vocab=transformer_vocab)\n",
    "\n",
    "tokenize_processor = TokenizeProcessor(tokenizer=fastai_tokenizer, include_bos=False, include_eos=False)\n",
    "\n",
    "transformer_processor = [tokenize_processor, numericalize_processor]"
   ]
  },
  {
   "cell_type": "code",
   "execution_count": 0,
   "metadata": {
    "colab": {},
    "colab_type": "code",
    "id": "pBSNQ1_ED0jx"
   },
   "outputs": [],
   "source": [
    "pad_first = bool(model_type in ['xlnet'])\n",
    "pad_idx = transformer_tokenizer.pad_token_id"
   ]
  },
  {
   "cell_type": "code",
   "execution_count": 54,
   "metadata": {
    "colab": {
     "base_uri": "https://localhost:8080/",
     "height": 67
    },
    "colab_type": "code",
    "id": "KuX84k1CFG7N",
    "outputId": "895195d3-bf4c-46ed-f0eb-7e3d5a0bbcea"
   },
   "outputs": [
    {
     "name": "stdout",
     "output_type": "stream",
     "text": [
      "['sal', '##ut', 'c', 'est', 'moi', ',', 'hello', 'it', 's', 'me']\n",
      "[16183, 4904, 1039, 9765, 25175, 1010, 7592, 2009, 1055, 2033]\n"
     ]
    },
    {
     "data": {
      "text/plain": [
       "['sal', '##ut', 'c', 'est', 'moi', ',', 'hello', 'it', 's', 'me']"
      ]
     },
     "execution_count": 54,
     "metadata": {
      "tags": []
     },
     "output_type": "execute_result"
    }
   ],
   "source": [
    "tokens = transformer_tokenizer.tokenize('Salut c est moi, Hello it s me')\n",
    "print(tokens)\n",
    "ids = transformer_tokenizer.convert_tokens_to_ids(tokens)\n",
    "print(ids)\n",
    "transformer_tokenizer.convert_ids_to_tokens(ids)"
   ]
  },
  {
   "cell_type": "markdown",
   "metadata": {},
   "source": [
    "Split into train and validation set"
   ]
  },
  {
   "cell_type": "code",
   "execution_count": 0,
   "metadata": {
    "colab": {},
    "colab_type": "code",
    "id": "wk1pputu-G7k"
   },
   "outputs": [],
   "source": [
    "from sklearn.model_selection import train_test_split\n",
    "train, val = train_test_split(df)"
   ]
  },
  {
   "cell_type": "code",
   "execution_count": 24,
   "metadata": {
    "colab": {
     "base_uri": "https://localhost:8080/",
     "height": 50
    },
    "colab_type": "code",
    "id": "ahz3rYBzGk0h",
    "outputId": "8bfc2d86-4cf0-40a7-aa40-bc8bcb873f74"
   },
   "outputs": [
    {
     "data": {
      "text/plain": [
       "(array([0, 1, 2, 3, 4, 5, 6, 7, 8]),\n",
       " array([158, 151, 146, 137, 154, 158, 143, 150, 153]))"
      ]
     },
     "execution_count": 24,
     "metadata": {
      "tags": []
     },
     "output_type": "execute_result"
    }
   ],
   "source": [
    "np.unique(train['flair'], return_counts=True)"
   ]
  },
  {
   "cell_type": "markdown",
   "metadata": {},
   "source": [
    " Create Databunch"
   ]
  },
  {
   "cell_type": "code",
   "execution_count": 55,
   "metadata": {
    "colab": {
     "base_uri": "https://localhost:8080/",
     "height": 17
    },
    "colab_type": "code",
    "id": "X5QJGGdhFHAr",
    "outputId": "ea973484-bf65-4d57-c942-47f097d2865e"
   },
   "outputs": [
    {
     "data": {
      "text/html": [],
      "text/plain": [
       "<IPython.core.display.HTML object>"
      ]
     },
     "metadata": {
      "tags": []
     },
     "output_type": "display_data"
    },
    {
     "data": {
      "text/html": [],
      "text/plain": [
       "<IPython.core.display.HTML object>"
      ]
     },
     "metadata": {
      "tags": []
     },
     "output_type": "display_data"
    },
    {
     "data": {
      "text/html": [],
      "text/plain": [
       "<IPython.core.display.HTML object>"
      ]
     },
     "metadata": {
      "tags": []
     },
     "output_type": "display_data"
    }
   ],
   "source": [
    "databunch = (TextList.from_df(train, cols='title', processor=transformer_processor)\n",
    "             .split_by_rand_pct(0.1,seed=seed)\n",
    "             .label_from_df(cols= 'flair')\n",
    "             .add_test(val)\n",
    "             .databunch(bs=bs, pad_first=pad_first, pad_idx=pad_idx))"
   ]
  },
  {
   "cell_type": "code",
   "execution_count": 56,
   "metadata": {
    "colab": {
     "base_uri": "https://localhost:8080/",
     "height": 346
    },
    "colab_type": "code",
    "id": "_JWDVe6mFG_b",
    "outputId": "3a17d067-e1cc-40c4-dc0c-51179cb4508f"
   },
   "outputs": [
    {
     "name": "stdout",
     "output_type": "stream",
     "text": [
      "[CLS] token : [CLS]\n",
      "[SEP] token : [SEP]\n",
      "[PAD] token : [PAD]\n"
     ]
    },
    {
     "data": {
      "text/html": [
       "<table border=\"1\" class=\"dataframe\">\n",
       "  <thead>\n",
       "    <tr style=\"text-align: right;\">\n",
       "      <th>text</th>\n",
       "      <th>target</th>\n",
       "    </tr>\n",
       "  </thead>\n",
       "  <tbody>\n",
       "    <tr>\n",
       "      <td>[CLS] hey , guys ! when i posted the tea &amp; id ##li video , u / wr ##omi ##t suggested that i should try \" tan ##door ##i leg \" with tea . i couldn ' t find a leg piece , but i found what they call \" ti ##kka . \" at first , i wasn ' t too sure about it , but after i tried</td>\n",
       "      <td>2</td>\n",
       "    </tr>\n",
       "    <tr>\n",
       "      <td>[CLS] it ' s possible to follow social di ##stan ##cing and eat healthy meals w / o shopping haul ##s . below is my prep for 5 people for next 21 days . ve ##gg ##ies pre - treated and frozen in pre measured quantities , other food like chan ##a , ch ##hole , etc . + fish ( frozen ) . stay home . tell your elders</td>\n",
       "      <td>2</td>\n",
       "    </tr>\n",
       "    <tr>\n",
       "      <td>[CLS] and ##rom ##eda galaxy ( mess ##ier 31 / m3 ##1 ) / winter night sky through the ceiling of kira ##du temple , bar ##mer rajasthan and ##rom ##eda galaxy / m3 ##1 is a spiral galaxy approximately 2 . 5 million light - years from earth . kira ##du temple - a group of temples from the 11th &amp; 12th century | 1600 x 158 ##2 [SEP]</td>\n",
       "      <td>4</td>\n",
       "    </tr>\n",
       "    <tr>\n",
       "      <td>[CLS] distress ##ing qu ##aran ##tine ##d days : i picked up a hobby of color ##izing old black and white photos . this is a photo of the 12th nawab beg ##um of b ##hop ##al , beg ##um sa ##ji ##da sultan , . © photograph by k . l . syed &amp; co . , c . 1938 - 1940 . [SEP] [PAD] [PAD] [PAD] [PAD] [PAD]</td>\n",
       "      <td>3</td>\n",
       "    </tr>\n",
       "    <tr>\n",
       "      <td>[CLS] during lock ##down , uttar ##akh ##and cm ( on ami ##t shah ' s orders ) arranged 28 buses to transport 1800 gujarati devotees stranded in hari ##d ##war back to ahmedabad . uttar ##akh ##and workers in ahmedabad were then du ##ped of rs . 1800 ##0 and stranded midway when they tried to use these buses to return home . [SEP] [PAD] [PAD] [PAD] [PAD] [PAD]</td>\n",
       "      <td>6</td>\n",
       "    </tr>\n",
       "  </tbody>\n",
       "</table>"
      ],
      "text/plain": [
       "<IPython.core.display.HTML object>"
      ]
     },
     "metadata": {
      "tags": []
     },
     "output_type": "display_data"
    }
   ],
   "source": [
    "print('[CLS] token :', transformer_tokenizer.cls_token)\n",
    "print('[SEP] token :', transformer_tokenizer.sep_token)\n",
    "print('[PAD] token :', transformer_tokenizer.pad_token)\n",
    "databunch.show_batch()"
   ]
  },
  {
   "cell_type": "code",
   "execution_count": 57,
   "metadata": {
    "colab": {
     "base_uri": "https://localhost:8080/",
     "height": 202
    },
    "colab_type": "code",
    "id": "ca31UuT8FG9q",
    "outputId": "8b326d7e-98f3-4961-c26f-2a0a0eba22b5"
   },
   "outputs": [
    {
     "name": "stdout",
     "output_type": "stream",
     "text": [
      "[CLS] id : 101\n",
      "[SEP] id : 102\n",
      "[PAD] id : 0\n",
      "Batch shape :  torch.Size([16, 88])\n",
      "tensor([[  101,  4931,  1010,  ..., 11519,  1012,   102],\n",
      "        [  101,  1031,  1051,  ...,     0,     0,     0],\n",
      "        [  101,  9932,  5714,  ...,     0,     0,     0],\n",
      "        ...,\n",
      "        [  101,  2634,  2012,  ...,     0,     0,     0],\n",
      "        [  101,  2024,  2111,  ...,     0,     0,     0],\n",
      "        [  101,  1045,  2444,  ...,     0,     0,     0]])\n"
     ]
    }
   ],
   "source": [
    "print('[CLS] id :', transformer_tokenizer.cls_token_id)\n",
    "print('[SEP] id :', transformer_tokenizer.sep_token_id)\n",
    "print('[PAD] id :', pad_idx)\n",
    "test_one_batch = databunch.one_batch()[0]\n",
    "print('Batch shape : ',test_one_batch.shape)\n",
    "print(test_one_batch)"
   ]
  },
  {
   "cell_type": "code",
   "execution_count": 0,
   "metadata": {
    "colab": {},
    "colab_type": "code",
    "id": "Gu2VgvEnHTV4"
   },
   "outputs": [],
   "source": [
    "# defining our model architecture \n",
    "class CustomTransformerModel(nn.Module):\n",
    "    def __init__(self, transformer_model: PreTrainedModel):\n",
    "        super(CustomTransformerModel,self).__init__()\n",
    "        self.transformer = transformer_model\n",
    "        \n",
    "    def forward(self, input_ids, attention_mask=None):\n",
    "        \n",
    "        # attention_mask\n",
    "        # Mask to avoid performing attention on padding token indices.\n",
    "        # Mask values selected in ``[0, 1]``:\n",
    "        # ``1`` for tokens that are NOT MASKED, ``0`` for MASKED tokens.\n",
    "        attention_mask = (input_ids!=pad_idx).type(input_ids.type()) \n",
    "        \n",
    "        logits = self.transformer(input_ids,\n",
    "                                  attention_mask = attention_mask)[0]   \n",
    "        return logits"
   ]
  },
  {
   "cell_type": "code",
   "execution_count": 59,
   "metadata": {
    "colab": {
     "base_uri": "https://localhost:8080/",
     "height": 1000
    },
    "colab_type": "code",
    "id": "V46n9ryeHXkK",
    "outputId": "c275c330-f3ee-4280-9e8d-7b13473dfecc"
   },
   "outputs": [
    {
     "name": "stdout",
     "output_type": "stream",
     "text": [
      "BertConfig {\n",
      "  \"_num_labels\": 9,\n",
      "  \"architectures\": [\n",
      "    \"BertForMaskedLM\"\n",
      "  ],\n",
      "  \"attention_probs_dropout_prob\": 0.1,\n",
      "  \"bad_words_ids\": null,\n",
      "  \"bos_token_id\": null,\n",
      "  \"decoder_start_token_id\": null,\n",
      "  \"do_sample\": false,\n",
      "  \"early_stopping\": false,\n",
      "  \"eos_token_id\": null,\n",
      "  \"finetuning_task\": null,\n",
      "  \"hidden_act\": \"gelu\",\n",
      "  \"hidden_dropout_prob\": 0.1,\n",
      "  \"hidden_size\": 768,\n",
      "  \"id2label\": {\n",
      "    \"0\": \"LABEL_0\",\n",
      "    \"1\": \"LABEL_1\",\n",
      "    \"2\": \"LABEL_2\",\n",
      "    \"3\": \"LABEL_3\",\n",
      "    \"4\": \"LABEL_4\",\n",
      "    \"5\": \"LABEL_5\",\n",
      "    \"6\": \"LABEL_6\",\n",
      "    \"7\": \"LABEL_7\",\n",
      "    \"8\": \"LABEL_8\"\n",
      "  },\n",
      "  \"initializer_range\": 0.02,\n",
      "  \"intermediate_size\": 3072,\n",
      "  \"is_decoder\": false,\n",
      "  \"is_encoder_decoder\": false,\n",
      "  \"label2id\": {\n",
      "    \"LABEL_0\": 0,\n",
      "    \"LABEL_1\": 1,\n",
      "    \"LABEL_2\": 2,\n",
      "    \"LABEL_3\": 3,\n",
      "    \"LABEL_4\": 4,\n",
      "    \"LABEL_5\": 5,\n",
      "    \"LABEL_6\": 6,\n",
      "    \"LABEL_7\": 7,\n",
      "    \"LABEL_8\": 8\n",
      "  },\n",
      "  \"layer_norm_eps\": 1e-12,\n",
      "  \"length_penalty\": 1.0,\n",
      "  \"max_length\": 20,\n",
      "  \"max_position_embeddings\": 512,\n",
      "  \"min_length\": 0,\n",
      "  \"model_type\": \"bert\",\n",
      "  \"no_repeat_ngram_size\": 0,\n",
      "  \"num_attention_heads\": 12,\n",
      "  \"num_beams\": 1,\n",
      "  \"num_hidden_layers\": 12,\n",
      "  \"num_return_sequences\": 1,\n",
      "  \"output_attentions\": false,\n",
      "  \"output_hidden_states\": false,\n",
      "  \"output_past\": true,\n",
      "  \"pad_token_id\": 0,\n",
      "  \"prefix\": null,\n",
      "  \"pruned_heads\": {},\n",
      "  \"repetition_penalty\": 1.0,\n",
      "  \"task_specific_params\": null,\n",
      "  \"temperature\": 1.0,\n",
      "  \"top_k\": 50,\n",
      "  \"top_p\": 1.0,\n",
      "  \"torchscript\": false,\n",
      "  \"type_vocab_size\": 2,\n",
      "  \"use_bfloat16\": false,\n",
      "  \"vocab_size\": 30522\n",
      "}\n",
      "\n"
     ]
    }
   ],
   "source": [
    "config = config_class.from_pretrained(pretrained_model_name)\n",
    "config.num_labels = len(all_flairs)\n",
    "config.use_bfloat16 = use_fp16\n",
    "print(config)"
   ]
  },
  {
   "cell_type": "code",
   "execution_count": 0,
   "metadata": {
    "colab": {},
    "colab_type": "code",
    "id": "Un8jTps8HXi0"
   },
   "outputs": [],
   "source": [
    "transformer_model = model_class.from_pretrained(pretrained_model_name, config = config)\n",
    "\n",
    "custom_transformer_model = CustomTransformerModel(transformer_model = transformer_model)"
   ]
  },
  {
   "cell_type": "code",
   "execution_count": 0,
   "metadata": {
    "colab": {},
    "colab_type": "code",
    "id": "8FhqhjbYHXg0"
   },
   "outputs": [],
   "source": [
    "from fastai.callbacks import *\n",
    "from transformers import AdamW\n",
    "from functools import partial\n",
    "\n",
    "CustomAdamW = partial(AdamW, correct_bias=False)\n",
    "\n",
    "learner = Learner(databunch, \n",
    "                  custom_transformer_model, \n",
    "                  opt_func = CustomAdamW, \n",
    "                  metrics=[accuracy, error_rate])\n",
    "\n",
    "# Show graph of learner stats and metrics after each epoch.\n",
    "learner.callbacks.append(ShowGraph(learner))\n",
    "\n",
    "# Put learn in FP16 precision mode. --> Seems to not working\n",
    "if use_fp16: learner = learner.to_fp16()\n"
   ]
  },
  {
   "cell_type": "code",
   "execution_count": 0,
   "metadata": {
    "colab": {},
    "colab_type": "code",
    "id": "CoLNJW2xHXfG"
   },
   "outputs": [],
   "source": [
    "# For DistilBERT\n",
    "# list_layers = [learner.model.transformer.distilbert.embeddings,\n",
    "#                learner.model.transformer.distilbert.transformer.layer[0],\n",
    "#                learner.model.transformer.distilbert.transformer.layer[1],\n",
    "#                learner.model.transformer.distilbert.transformer.layer[2],\n",
    "#                learner.model.transformer.distilbert.transformer.layer[3],\n",
    "#                learner.model.transformer.distilbert.transformer.layer[4],\n",
    "#                learner.model.transformer.distilbert.transformer.layer[5],\n",
    "#                learner.model.transformer.pre_classifier]\n",
    "\n",
    "# For xlnet-base-cased\n",
    "# list_layers = [learner.model.transformer.transformer.word_embedding,\n",
    "#               learner.model.transformer.transformer.layer[0],\n",
    "#               learner.model.transformer.transformer.layer[1],\n",
    "#               learner.model.transformer.transformer.layer[2],\n",
    "#               learner.model.transformer.transformer.layer[3],\n",
    "#               learner.model.transformer.transformer.layer[4],\n",
    "#               learner.model.transformer.transformer.layer[5],\n",
    "#               learner.model.transformer.transformer.layer[6],\n",
    "#               learner.model.transformer.transformer.layer[7],\n",
    "#               learner.model.transformer.transformer.layer[8],\n",
    "#               learner.model.transformer.transformer.layer[9],\n",
    "#               learner.model.transformer.transformer.layer[10],\n",
    "#               learner.model.transformer.transformer.layer[11],\n",
    "#               learner.model.transformer.sequence_summary]\n",
    "\n",
    "# For roberta-base\n",
    "list_layers = [learner.model.transformer.roberta.embeddings,\n",
    "              learner.model.transformer.roberta.encoder.layer[0],\n",
    "              learner.model.transformer.roberta.encoder.layer[1],\n",
    "              learner.model.transformer.roberta.encoder.layer[2],\n",
    "              learner.model.transformer.roberta.encoder.layer[3],\n",
    "              learner.model.transformer.roberta.encoder.layer[4],\n",
    "              learner.model.transformer.roberta.encoder.layer[5],\n",
    "              learner.model.transformer.roberta.encoder.layer[6],\n",
    "              learner.model.transformer.roberta.encoder.layer[7],\n",
    "              learner.model.transformer.roberta.encoder.layer[8],\n",
    "              learner.model.transformer.roberta.encoder.layer[9],\n",
    "              learner.model.transformer.roberta.encoder.layer[10],\n",
    "              learner.model.transformer.roberta.encoder.layer[11],\n",
    "              learner.model.transformer.roberta.pooler]"
   ]
  },
  {
   "cell_type": "code",
   "execution_count": 66,
   "metadata": {
    "colab": {
     "base_uri": "https://localhost:8080/",
     "height": 1000
    },
    "colab_type": "code",
    "id": "KxfUxJtCLLi_",
    "outputId": "435ca298-4336-413a-bd11-380164341699"
   },
   "outputs": [
    {
     "name": "stdout",
     "output_type": "stream",
     "text": [
      "[Sequential(\n",
      "  (0): Embedding(30522, 768, padding_idx=0)\n",
      "  (1): Embedding(512, 768)\n",
      "  (2): Embedding(2, 768)\n",
      "  (3): LayerNorm((768,), eps=1e-12, elementwise_affine=True)\n",
      "  (4): Dropout(p=0.1, inplace=False)\n",
      "  (5): Linear(in_features=768, out_features=768, bias=True)\n",
      "  (6): Linear(in_features=768, out_features=768, bias=True)\n",
      "  (7): Linear(in_features=768, out_features=768, bias=True)\n",
      "  (8): Dropout(p=0.1, inplace=False)\n",
      "  (9): Linear(in_features=768, out_features=768, bias=True)\n",
      "  (10): LayerNorm((768,), eps=1e-12, elementwise_affine=True)\n",
      "  (11): Dropout(p=0.1, inplace=False)\n",
      "  (12): Linear(in_features=768, out_features=3072, bias=True)\n",
      "  (13): Linear(in_features=3072, out_features=768, bias=True)\n",
      "  (14): LayerNorm((768,), eps=1e-12, elementwise_affine=True)\n",
      "  (15): Dropout(p=0.1, inplace=False)\n",
      "  (16): Linear(in_features=768, out_features=768, bias=True)\n",
      "  (17): Linear(in_features=768, out_features=768, bias=True)\n",
      "  (18): Linear(in_features=768, out_features=768, bias=True)\n",
      "  (19): Dropout(p=0.1, inplace=False)\n",
      "  (20): Linear(in_features=768, out_features=768, bias=True)\n",
      "  (21): LayerNorm((768,), eps=1e-12, elementwise_affine=True)\n",
      "  (22): Dropout(p=0.1, inplace=False)\n",
      "  (23): Linear(in_features=768, out_features=3072, bias=True)\n",
      "  (24): Linear(in_features=3072, out_features=768, bias=True)\n",
      "  (25): LayerNorm((768,), eps=1e-12, elementwise_affine=True)\n",
      "  (26): Dropout(p=0.1, inplace=False)\n",
      "  (27): Linear(in_features=768, out_features=768, bias=True)\n",
      "  (28): Linear(in_features=768, out_features=768, bias=True)\n",
      "  (29): Linear(in_features=768, out_features=768, bias=True)\n",
      "  (30): Dropout(p=0.1, inplace=False)\n",
      "  (31): Linear(in_features=768, out_features=768, bias=True)\n",
      "  (32): LayerNorm((768,), eps=1e-12, elementwise_affine=True)\n",
      "  (33): Dropout(p=0.1, inplace=False)\n",
      "  (34): Linear(in_features=768, out_features=3072, bias=True)\n",
      "  (35): Linear(in_features=3072, out_features=768, bias=True)\n",
      "  (36): LayerNorm((768,), eps=1e-12, elementwise_affine=True)\n",
      "  (37): Dropout(p=0.1, inplace=False)\n",
      "  (38): Linear(in_features=768, out_features=768, bias=True)\n",
      "  (39): Linear(in_features=768, out_features=768, bias=True)\n",
      "  (40): Linear(in_features=768, out_features=768, bias=True)\n",
      "  (41): Dropout(p=0.1, inplace=False)\n",
      "  (42): Linear(in_features=768, out_features=768, bias=True)\n",
      "  (43): LayerNorm((768,), eps=1e-12, elementwise_affine=True)\n",
      "  (44): Dropout(p=0.1, inplace=False)\n",
      "  (45): Linear(in_features=768, out_features=3072, bias=True)\n",
      "  (46): Linear(in_features=3072, out_features=768, bias=True)\n",
      "  (47): LayerNorm((768,), eps=1e-12, elementwise_affine=True)\n",
      "  (48): Dropout(p=0.1, inplace=False)\n",
      "  (49): Linear(in_features=768, out_features=768, bias=True)\n",
      "  (50): Linear(in_features=768, out_features=768, bias=True)\n",
      "  (51): Linear(in_features=768, out_features=768, bias=True)\n",
      "  (52): Dropout(p=0.1, inplace=False)\n",
      "  (53): Linear(in_features=768, out_features=768, bias=True)\n",
      "  (54): LayerNorm((768,), eps=1e-12, elementwise_affine=True)\n",
      "  (55): Dropout(p=0.1, inplace=False)\n",
      "  (56): Linear(in_features=768, out_features=3072, bias=True)\n",
      "  (57): Linear(in_features=3072, out_features=768, bias=True)\n",
      "  (58): LayerNorm((768,), eps=1e-12, elementwise_affine=True)\n",
      "  (59): Dropout(p=0.1, inplace=False)\n",
      "  (60): Linear(in_features=768, out_features=768, bias=True)\n",
      "  (61): Linear(in_features=768, out_features=768, bias=True)\n",
      "  (62): Linear(in_features=768, out_features=768, bias=True)\n",
      "  (63): Dropout(p=0.1, inplace=False)\n",
      "  (64): Linear(in_features=768, out_features=768, bias=True)\n",
      "  (65): LayerNorm((768,), eps=1e-12, elementwise_affine=True)\n",
      "  (66): Dropout(p=0.1, inplace=False)\n",
      "  (67): Linear(in_features=768, out_features=3072, bias=True)\n",
      "  (68): Linear(in_features=3072, out_features=768, bias=True)\n",
      "  (69): LayerNorm((768,), eps=1e-12, elementwise_affine=True)\n",
      "  (70): Dropout(p=0.1, inplace=False)\n",
      "  (71): Linear(in_features=768, out_features=768, bias=True)\n",
      "  (72): Linear(in_features=768, out_features=768, bias=True)\n",
      "  (73): Linear(in_features=768, out_features=768, bias=True)\n",
      "  (74): Dropout(p=0.1, inplace=False)\n",
      "  (75): Linear(in_features=768, out_features=768, bias=True)\n",
      "  (76): LayerNorm((768,), eps=1e-12, elementwise_affine=True)\n",
      "  (77): Dropout(p=0.1, inplace=False)\n",
      "  (78): Linear(in_features=768, out_features=3072, bias=True)\n",
      "  (79): Linear(in_features=3072, out_features=768, bias=True)\n",
      "  (80): LayerNorm((768,), eps=1e-12, elementwise_affine=True)\n",
      "  (81): Dropout(p=0.1, inplace=False)\n",
      "  (82): Linear(in_features=768, out_features=768, bias=True)\n",
      "  (83): Linear(in_features=768, out_features=768, bias=True)\n",
      "  (84): Linear(in_features=768, out_features=768, bias=True)\n",
      "  (85): Dropout(p=0.1, inplace=False)\n",
      "  (86): Linear(in_features=768, out_features=768, bias=True)\n",
      "  (87): LayerNorm((768,), eps=1e-12, elementwise_affine=True)\n",
      "  (88): Dropout(p=0.1, inplace=False)\n",
      "  (89): Linear(in_features=768, out_features=3072, bias=True)\n",
      "  (90): Linear(in_features=3072, out_features=768, bias=True)\n",
      "  (91): LayerNorm((768,), eps=1e-12, elementwise_affine=True)\n",
      "  (92): Dropout(p=0.1, inplace=False)\n",
      "  (93): Linear(in_features=768, out_features=768, bias=True)\n",
      "  (94): Linear(in_features=768, out_features=768, bias=True)\n",
      "  (95): Linear(in_features=768, out_features=768, bias=True)\n",
      "  (96): Dropout(p=0.1, inplace=False)\n",
      "  (97): Linear(in_features=768, out_features=768, bias=True)\n",
      "  (98): LayerNorm((768,), eps=1e-12, elementwise_affine=True)\n",
      "  (99): Dropout(p=0.1, inplace=False)\n",
      "  (100): Linear(in_features=768, out_features=3072, bias=True)\n",
      "  (101): Linear(in_features=3072, out_features=768, bias=True)\n",
      "  (102): LayerNorm((768,), eps=1e-12, elementwise_affine=True)\n",
      "  (103): Dropout(p=0.1, inplace=False)\n",
      "  (104): Linear(in_features=768, out_features=768, bias=True)\n",
      "  (105): Linear(in_features=768, out_features=768, bias=True)\n",
      "  (106): Linear(in_features=768, out_features=768, bias=True)\n",
      "  (107): Dropout(p=0.1, inplace=False)\n",
      "  (108): Linear(in_features=768, out_features=768, bias=True)\n",
      "  (109): LayerNorm((768,), eps=1e-12, elementwise_affine=True)\n",
      "  (110): Dropout(p=0.1, inplace=False)\n",
      "  (111): Linear(in_features=768, out_features=3072, bias=True)\n",
      "  (112): Linear(in_features=3072, out_features=768, bias=True)\n",
      "  (113): LayerNorm((768,), eps=1e-12, elementwise_affine=True)\n",
      "  (114): Dropout(p=0.1, inplace=False)\n",
      "  (115): Linear(in_features=768, out_features=768, bias=True)\n",
      "  (116): Linear(in_features=768, out_features=768, bias=True)\n",
      "  (117): Linear(in_features=768, out_features=768, bias=True)\n",
      "  (118): Dropout(p=0.1, inplace=False)\n",
      "  (119): Linear(in_features=768, out_features=768, bias=True)\n",
      "  (120): LayerNorm((768,), eps=1e-12, elementwise_affine=True)\n",
      "  (121): Dropout(p=0.1, inplace=False)\n",
      "  (122): Linear(in_features=768, out_features=3072, bias=True)\n",
      "  (123): Linear(in_features=3072, out_features=768, bias=True)\n",
      "  (124): LayerNorm((768,), eps=1e-12, elementwise_affine=True)\n",
      "  (125): Dropout(p=0.1, inplace=False)\n",
      "  (126): Linear(in_features=768, out_features=768, bias=True)\n",
      "  (127): Linear(in_features=768, out_features=768, bias=True)\n",
      "  (128): Linear(in_features=768, out_features=768, bias=True)\n",
      "  (129): Dropout(p=0.1, inplace=False)\n",
      "  (130): Linear(in_features=768, out_features=768, bias=True)\n",
      "  (131): LayerNorm((768,), eps=1e-12, elementwise_affine=True)\n",
      "  (132): Dropout(p=0.1, inplace=False)\n",
      "  (133): Linear(in_features=768, out_features=3072, bias=True)\n",
      "  (134): Linear(in_features=3072, out_features=768, bias=True)\n",
      "  (135): LayerNorm((768,), eps=1e-12, elementwise_affine=True)\n",
      "  (136): Dropout(p=0.1, inplace=False)\n",
      "  (137): Linear(in_features=768, out_features=768, bias=True)\n",
      "  (138): Tanh()\n",
      "  (139): Dropout(p=0.1, inplace=False)\n",
      "  (140): Linear(in_features=768, out_features=9, bias=True)\n",
      ")]\n"
     ]
    }
   ],
   "source": [
    "# learner.split(list_layers)\n",
    "# num_groups = len(learner.layer_groups)\n",
    "# print('Learner split in',num_groups,'groups')\n",
    "print(learner.layer_groups)"
   ]
  },
  {
   "cell_type": "code",
   "execution_count": 0,
   "metadata": {
    "colab": {},
    "colab_type": "code",
    "id": "caJRuZ-hLN34"
   },
   "outputs": [],
   "source": [
    "learner.save('untrain')\n",
    "seed_all(seed)\n",
    "learner.load('untrain');"
   ]
  },
  {
   "cell_type": "code",
   "execution_count": 63,
   "metadata": {
    "colab": {
     "base_uri": "https://localhost:8080/",
     "height": 112
    },
    "colab_type": "code",
    "id": "SfHDOm9eL9kf",
    "outputId": "944cfb11-051a-44e4-9b7b-a7537106d292"
   },
   "outputs": [
    {
     "data": {
      "text/html": [
       "\n",
       "    <div>\n",
       "        <style>\n",
       "            /* Turns off some styling */\n",
       "            progress {\n",
       "                /* gets rid of default border in Firefox and Opera. */\n",
       "                border: none;\n",
       "                /* Needs to be in here for Safari polyfill so background images work as expected. */\n",
       "                background-size: auto;\n",
       "            }\n",
       "            .progress-bar-interrupted, .progress-bar-interrupted::-webkit-progress-bar {\n",
       "                background: #F44336;\n",
       "            }\n",
       "        </style>\n",
       "      <progress value='0' class='' max='2' style='width:300px; height:20px; vertical-align: middle;'></progress>\n",
       "      0.00% [0/2 00:00<00:00]\n",
       "    </div>\n",
       "    \n",
       "<table border=\"1\" class=\"dataframe\">\n",
       "  <thead>\n",
       "    <tr style=\"text-align: left;\">\n",
       "      <th>epoch</th>\n",
       "      <th>train_loss</th>\n",
       "      <th>valid_loss</th>\n",
       "      <th>accuracy</th>\n",
       "      <th>error_rate</th>\n",
       "      <th>time</th>\n",
       "    </tr>\n",
       "  </thead>\n",
       "  <tbody>\n",
       "  </tbody>\n",
       "</table><p>\n",
       "\n",
       "    <div>\n",
       "        <style>\n",
       "            /* Turns off some styling */\n",
       "            progress {\n",
       "                /* gets rid of default border in Firefox and Opera. */\n",
       "                border: none;\n",
       "                /* Needs to be in here for Safari polyfill so background images work as expected. */\n",
       "                background-size: auto;\n",
       "            }\n",
       "            .progress-bar-interrupted, .progress-bar-interrupted::-webkit-progress-bar {\n",
       "                background: #F44336;\n",
       "            }\n",
       "        </style>\n",
       "      <progress value='69' class='' max='75' style='width:300px; height:20px; vertical-align: middle;'></progress>\n",
       "      92.00% [69/75 00:06<00:00 6.0408]\n",
       "    </div>\n",
       "    "
      ],
      "text/plain": [
       "<IPython.core.display.HTML object>"
      ]
     },
     "metadata": {
      "tags": []
     },
     "output_type": "display_data"
    },
    {
     "name": "stdout",
     "output_type": "stream",
     "text": [
      "LR Finder is complete, type {learner_name}.recorder.plot() to see the graph.\n"
     ]
    }
   ],
   "source": [
    "learner.freeze_to(-1)\n",
    "learner.lr_find()"
   ]
  },
  {
   "cell_type": "code",
   "execution_count": 64,
   "metadata": {
    "colab": {
     "base_uri": "https://localhost:8080/",
     "height": 318
    },
    "colab_type": "code",
    "id": "VEU8nyzAL9nP",
    "outputId": "efa6902c-49f7-43ab-8ab5-15a1c7418714"
   },
   "outputs": [
    {
     "name": "stdout",
     "output_type": "stream",
     "text": [
      "Min numerical gradient: 7.59E-05\n",
      "Min loss divided by 10: 1.32E-05\n"
     ]
    },
    {
     "data": {
      "image/png": "[encoded data removed]",
      "text/plain": [
       "<Figure size 432x288 with 1 Axes>"
      ]
     },
     "metadata": {
      "tags": []
     },
     "output_type": "display_data"
    }
   ],
   "source": [
    "learner.recorder.plot(skip_end=10,suggestion=True)"
   ]
  },
  {
   "cell_type": "code",
   "execution_count": 62,
   "metadata": {
    "colab": {
     "base_uri": "https://localhost:8080/",
     "height": 67
    },
    "colab_type": "code",
    "id": "UL9QTZDQMneG",
    "outputId": "9ffd621c-968e-4d12-91c9-d07e5ee38fc2"
   },
   "outputs": [
    {
     "data": {
      "text/plain": [
       "(Category 2,\n",
       " tensor(2),\n",
       " tensor([0.0792, 0.1484, 0.1842, 0.0787, 0.0988, 0.1168, 0.0965, 0.0465, 0.1508]))"
      ]
     },
     "execution_count": 62,
     "metadata": {
      "tags": []
     },
     "output_type": "execute_result"
    }
   ],
   "source": [
    "learner.predict('if you need help with some groceries and food')"
   ]
  },
  {
   "cell_type": "code",
   "execution_count": 65,
   "metadata": {
    "colab": {
     "base_uri": "https://localhost:8080/",
     "height": 328
    },
    "colab_type": "code",
    "id": "XBkMYmCnMB8D",
    "outputId": "18779de7-5c43-43bc-efcd-7bfb87dcd862"
   },
   "outputs": [
    {
     "data": {
      "text/html": [
       "<table border=\"1\" class=\"dataframe\">\n",
       "  <thead>\n",
       "    <tr style=\"text-align: left;\">\n",
       "      <th>epoch</th>\n",
       "      <th>train_loss</th>\n",
       "      <th>valid_loss</th>\n",
       "      <th>accuracy</th>\n",
       "      <th>error_rate</th>\n",
       "      <th>time</th>\n",
       "    </tr>\n",
       "  </thead>\n",
       "  <tbody>\n",
       "    <tr>\n",
       "      <td>0</td>\n",
       "      <td>1.569046</td>\n",
       "      <td>1.263031</td>\n",
       "      <td>0.592593</td>\n",
       "      <td>0.407407</td>\n",
       "      <td>00:07</td>\n",
       "    </tr>\n",
       "  </tbody>\n",
       "</table>"
      ],
      "text/plain": [
       "<IPython.core.display.HTML object>"
      ]
     },
     "metadata": {
      "tags": []
     },
     "output_type": "display_data"
    },
    {
     "data": {
      "image/png": "[encoded data removed]",
      "text/plain": [
       "<Figure size 432x288 with 1 Axes>"
      ]
     },
     "metadata": {
      "tags": []
     },
     "output_type": "display_data"
    }
   ],
   "source": [
    "learner.fit_one_cycle(1,max_lr=2e-05,moms=(0.8,0.7))"
   ]
  },
  {
   "cell_type": "code",
   "execution_count": 39,
   "metadata": {
    "colab": {
     "base_uri": "https://localhost:8080/",
     "height": 34
    },
    "colab_type": "code",
    "id": "wTF-mE-YM0pt",
    "outputId": "8bf5c3b4-e76d-4e8c-8ef4-e50dace9fefa"
   },
   "outputs": [
    {
     "data": {
      "text/plain": [
       "array([0, 1, 2, 3, 4, 5, 6, 7, 8])"
      ]
     },
     "execution_count": 39,
     "metadata": {
      "tags": []
     },
     "output_type": "execute_result"
    }
   ],
   "source": [
    "{0:'AskIndia', 1:'Business/Finance', 2:'Food', 3:'Non-Political', 4:'Photography', 5:'Policy/Economy', 6:'Politics',\n",
    "        7:'Science/Technology', 8:'Sports'}"
   ]
  },
  {
   "cell_type": "code",
   "execution_count": 0,
   "metadata": {
    "colab": {},
    "colab_type": "code",
    "id": "8AzTvU9zM1Jp"
   },
   "outputs": [],
   "source": []
  }
 ],
 "metadata": {
  "accelerator": "GPU",
  "colab": {
   "collapsed_sections": [],
   "name": "bert+fastai.ipynb",
   "provenance": []
  },
  "kernelspec": {
   "display_name": "Python 3",
   "language": "python",
   "name": "python3"
  },
  "language_info": {
   "codemirror_mode": {
    "name": "ipython",
    "version": 3
   },
   "file_extension": ".py",
   "mimetype": "text/x-python",
   "name": "python",
   "nbconvert_exporter": "python",
   "pygments_lexer": "ipython3",
   "version": "3.7.3"
  }
 },
 "nbformat": 4,
 "nbformat_minor": 1
}
